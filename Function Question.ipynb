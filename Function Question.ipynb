{
 "cells": [
  {
   "cell_type": "code",
   "execution_count": null,
   "id": "d3078ce3",
   "metadata": {},
   "outputs": [],
   "source": [
    "def add(a,b):\n",
    "    a+=1\n",
    "    b-=1\n",
    "    print(id(a))\n",
    "    print(id(b))"
   ]
  },
  {
   "cell_type": "code",
   "execution_count": null,
   "id": "7f7236bf",
   "metadata": {},
   "outputs": [],
   "source": [
    "a,b = 10,20\n",
    "add(a,b)\n",
    "print(id(a))\n",
    "print(id(b))"
   ]
  },
  {
   "cell_type": "code",
   "execution_count": null,
   "id": "1c2c3a40",
   "metadata": {},
   "outputs": [],
   "source": [
    "add(a,b)"
   ]
  },
  {
   "cell_type": "code",
   "execution_count": null,
   "id": "4e5a3f91",
   "metadata": {},
   "outputs": [],
   "source": [
    "def fun():\n",
    "    print('I am fun')\n",
    "    gun()"
   ]
  },
  {
   "cell_type": "code",
   "execution_count": null,
   "id": "e0c249a7",
   "metadata": {},
   "outputs": [],
   "source": [
    "def gun():\n",
    "    sun()\n",
    "    print('I am gun')"
   ]
  },
  {
   "cell_type": "code",
   "execution_count": null,
   "id": "45a339ac",
   "metadata": {},
   "outputs": [],
   "source": [
    "def run():\n",
    "    print(\"I am run\")"
   ]
  },
  {
   "cell_type": "code",
   "execution_count": null,
   "id": "3818d12e",
   "metadata": {},
   "outputs": [],
   "source": [
    "def sun():\n",
    "    print(\"I am sun\")\n",
    "    run()"
   ]
  },
  {
   "cell_type": "code",
   "execution_count": null,
   "id": "f066f8a3",
   "metadata": {},
   "outputs": [],
   "source": [
    "fun()"
   ]
  },
  {
   "cell_type": "markdown",
   "id": "620f39e8",
   "metadata": {},
   "source": [
    "###### HW"
   ]
  },
  {
   "cell_type": "markdown",
   "id": "6507b462",
   "metadata": {},
   "source": [
    "###### 1] Accept 3 no. from user pass this to max() function which calculate the max.number from this 3 number. Now whatever the max no. is pass that max no. to check() function for analysis the no. is +ve, -ve or zero. And if it is +ve the pass it to evodd() function and check whether it is even or odd number"
   ]
  },
  {
   "cell_type": "code",
   "execution_count": 3,
   "id": "2e915590",
   "metadata": {},
   "outputs": [
    {
     "name": "stdout",
     "output_type": "stream",
     "text": [
      "Enter 1st number : 4\n",
      "Enter 2nd number : 5\n",
      "Enter 3nd number : 6\n",
      "+ve\n",
      "Number is even\n"
     ]
    }
   ],
   "source": [
    "def max(x,y,z):\n",
    "    if(x>y and x>z):\n",
    "        m=x\n",
    "    elif(y>z):\n",
    "        m=y\n",
    "    else:\n",
    "        m=z\n",
    "    check(m)\n",
    "def check(no):\n",
    "    if(no>0):\n",
    "        print('+ve')\n",
    "        evodd(no)\n",
    "    elif(no<0):\n",
    "        print('-ve')\n",
    "    else:\n",
    "        print('Zero')\n",
    "def evodd(no):\n",
    "    if (no%2==0):\n",
    "        print('Number is even')\n",
    "    else:\n",
    "        print(\"Number is odd\")\n",
    "x=eval(input('Enter 1st number : '))\n",
    "y=eval(input('Enter 2nd number : '))\n",
    "z=eval(input('Enter 3nd number : '))\n",
    "max(x,y,z)"
   ]
  },
  {
   "cell_type": "markdown",
   "id": "90881a61",
   "metadata": {},
   "source": [
    "###### 2] Accept no. from user pass it to add() function which perform addition of all individual digit present in the number. Now whatever the addition is passed in into the palindrome() function to check that result addition is pallindrom number or not "
   ]
  },
  {
   "cell_type": "code",
   "execution_count": 11,
   "id": "f12d1075",
   "metadata": {},
   "outputs": [
    {
     "name": "stdout",
     "output_type": "stream",
     "text": [
      "Enter the numbers : 1,2,8\n",
      "11\n",
      "The number is palindrome\n"
     ]
    }
   ],
   "source": [
    "def add():\n",
    "    i=0\n",
    "    a=eval(input('Enter the numbers : '))\n",
    "    for n in a:\n",
    "        i+=n\n",
    "    print(i)\n",
    "    palindrome(i)\n",
    "    \n",
    "def palindrome(i):\n",
    "    if (str(i)[::1]==str(i)[::-1]):\n",
    "        print('The number is palindrome')\n",
    "    else:\n",
    "        print('The number is not a palindrome') \n",
    "add()"
   ]
  },
  {
   "cell_type": "markdown",
   "id": "1b469421",
   "metadata": {},
   "source": [
    "###### 3] Accept list from user which all having integer number & perform the addition of all digits last number"
   ]
  },
  {
   "cell_type": "code",
   "execution_count": 22,
   "id": "4290e37b",
   "metadata": {},
   "outputs": [],
   "source": [
    "def last_digit():\n",
    "    a=eval(input(\"Enter the list of numbers : \"))\n",
    "    i=0\n",
    "    for n in a:\n",
    "        i+=1\n",
    "        num=n%10\n",
    "        print(num)\n",
    "    addlist(n)\n",
    "def addlist(num):\n",
    "    m=0\n",
    "    for b in p:\n",
    "        m+=b\n",
    "    print(m)    \n",
    "\n"
   ]
  },
  {
   "cell_type": "code",
   "execution_count": 8,
   "id": "0fe8a7a5",
   "metadata": {},
   "outputs": [
    {
     "name": "stdout",
     "output_type": "stream",
     "text": [
      "Enter the list 4,5,6\n",
      "this was the logic to add last digits .\n",
      "15\n"
     ]
    }
   ],
   "source": [
    "s=eval(input(\"Enter the list \"))\n",
    "def addlist():\n",
    "    m=0\n",
    "    p=s\n",
    "    for n in p:\n",
    "        m+=n\n",
    "    print(m)\n",
    "print (\"this was the logic to add last digits .\")\n",
    "addlist()\n",
    "        \n",
    "        \n",
    "    \n"
   ]
  },
  {
   "cell_type": "markdown",
   "id": "06a91a17",
   "metadata": {},
   "source": [
    "###### mam's logic"
   ]
  },
  {
   "cell_type": "code",
   "execution_count": 7,
   "id": "b3e2058a",
   "metadata": {},
   "outputs": [
    {
     "name": "stdout",
     "output_type": "stream",
     "text": [
      "27\n"
     ]
    }
   ],
   "source": [
    "l=[75,29,32,37,53,61]\n",
    "sum=0\n",
    "for i in l:\n",
    "    sum+=(i%10)\n",
    "print(sum)"
   ]
  },
  {
   "cell_type": "markdown",
   "id": "a5a2b2fe",
   "metadata": {},
   "source": [
    "### RETURN"
   ]
  },
  {
   "cell_type": "code",
   "execution_count": 15,
   "id": "2a184888",
   "metadata": {},
   "outputs": [],
   "source": [
    "def operation():\n",
    "    l=[75,29,32,37,53,61]\n",
    "    sum=0\n",
    "    for i in l:\n",
    "        sum+=(i%10)\n",
    "    print('The sum of all last digits is : ', sum)\n",
    "    return sum"
   ]
  },
  {
   "cell_type": "code",
   "execution_count": 16,
   "id": "d3349345",
   "metadata": {},
   "outputs": [
    {
     "name": "stdout",
     "output_type": "stream",
     "text": [
      "The sum of all last digits is :  27\n",
      "Number is odd\n"
     ]
    }
   ],
   "source": [
    "n=operation()\n",
    "if (n%2==0):\n",
    "    print('Number is even')\n",
    "else:\n",
    "    print('Number is odd')"
   ]
  },
  {
   "cell_type": "markdown",
   "id": "6cc913e2",
   "metadata": {},
   "source": [
    "###### How to return multiple values "
   ]
  },
  {
   "cell_type": "code",
   "execution_count": 4,
   "id": "97b996fe",
   "metadata": {},
   "outputs": [],
   "source": [
    "def add(a,b):\n",
    "    c=a+b\n",
    "    d=a-b\n",
    "    e=a*b\n",
    "    return c,d,e\n",
    "sum,sub,mul=add(2,3)"
   ]
  },
  {
   "cell_type": "code",
   "execution_count": 5,
   "id": "e5322740",
   "metadata": {},
   "outputs": [
    {
     "data": {
      "text/plain": [
       "(5, -1, 6)"
      ]
     },
     "execution_count": 5,
     "metadata": {},
     "output_type": "execute_result"
    }
   ],
   "source": [
    "add(2,3)"
   ]
  },
  {
   "cell_type": "markdown",
   "id": "934fab04",
   "metadata": {},
   "source": [
    "###### Accept 3 number list and print the max number out of it"
   ]
  },
  {
   "cell_type": "code",
   "execution_count": 1,
   "id": "c1387744",
   "metadata": {},
   "outputs": [
    {
     "name": "stdout",
     "output_type": "stream",
     "text": [
      "Enter the number : 4,5,6\n",
      "6\n"
     ]
    }
   ],
   "source": [
    "def max_number(x,y,z):\n",
    "    if(x>y and x>z):\n",
    "        print(x)\n",
    "    elif(y>z):\n",
    "        print(y)\n",
    "    else:\n",
    "        print(z)\n",
    "        \n",
    "x,y,z=eval(input('Enter the number : '))\n",
    "max_number(x,y,z)        "
   ]
  },
  {
   "cell_type": "markdown",
   "id": "5677f53b",
   "metadata": {},
   "source": [
    "###### Accept number as a parameter and with the help of return print the number is prime or not"
   ]
  },
  {
   "cell_type": "code",
   "execution_count": 2,
   "id": "2ffe7ef8",
   "metadata": {},
   "outputs": [],
   "source": [
    "def prime_number(n):\n",
    "    count=0\n",
    "    for i in range(2,n):\n",
    "        if(n%i==0):\n",
    "            count+=1\n",
    "            break\n",
    "    if(count==0):\n",
    "        return 'Prime number'\n",
    "    else:\n",
    "        return 'Not prime number'\n",
    "    "
   ]
  },
  {
   "cell_type": "code",
   "execution_count": 3,
   "id": "59a04cb9",
   "metadata": {},
   "outputs": [
    {
     "name": "stdout",
     "output_type": "stream",
     "text": [
      "Enter number : 65\n",
      "Not prime number\n"
     ]
    }
   ],
   "source": [
    "n=int(input('Enter number : '))\n",
    "print(prime_number(n))"
   ]
  },
  {
   "cell_type": "markdown",
   "id": "123bdb8a",
   "metadata": {},
   "source": [
    "###### Accept number & check the reverse of it is pallindrome or not"
   ]
  },
  {
   "cell_type": "code",
   "execution_count": 28,
   "id": "218e2ae8",
   "metadata": {},
   "outputs": [],
   "source": [
    "def rev(n):\n",
    "    r=0\n",
    "    while(n!=0):\n",
    "        a=n%10\n",
    "        r=r*10+a\n",
    "        n=n//10\n",
    "    return r"
   ]
  },
  {
   "cell_type": "code",
   "execution_count": 29,
   "id": "8451d3ff",
   "metadata": {},
   "outputs": [],
   "source": [
    "def pal(no):\n",
    "    re=rev(no)\n",
    "    if(re==no):\n",
    "        print('pallindrome')\n",
    "    else:\n",
    "        print('Not pallindrome')"
   ]
  },
  {
   "cell_type": "code",
   "execution_count": 31,
   "id": "a31430ff",
   "metadata": {},
   "outputs": [
    {
     "name": "stdout",
     "output_type": "stream",
     "text": [
      "Enter a number : 235\n",
      "Not pallindrome\n"
     ]
    }
   ],
   "source": [
    "n=int(input('Enter a number : '))\n",
    "pal(n)"
   ]
  },
  {
   "cell_type": "markdown",
   "id": "d6f84b9f",
   "metadata": {},
   "source": [
    "###### DRY RUN CODE "
   ]
  },
  {
   "cell_type": "code",
   "execution_count": 1,
   "id": "2d28fd9a",
   "metadata": {},
   "outputs": [
    {
     "name": "stdout",
     "output_type": "stream",
     "text": [
      "75 -65\n"
     ]
    }
   ],
   "source": [
    "x,y= 10,20\n",
    "for i in range(1,11):\n",
    "    if(i%3==0):\n",
    "        x+=10\n",
    "        y-=5\n",
    "    else:\n",
    "        x+=5\n",
    "        y-=10\n",
    "print(x,y)"
   ]
  },
  {
   "cell_type": "code",
   "execution_count": 2,
   "id": "c95d1967",
   "metadata": {},
   "outputs": [
    {
     "name": "stdout",
     "output_type": "stream",
     "text": [
      "5 29 17 32\n",
      "4 46 14 46\n",
      "4 59 11 57\n",
      "3 70 8 65\n",
      "3 77 5 70\n",
      "2 82 2 72\n",
      "2 83 -1 71\n",
      "1 82 -4 67\n",
      "1 77 -7 60\n",
      "0 70 -10 50\n"
     ]
    }
   ],
   "source": [
    "x,a,b"
   ]
  },
  {
   "cell_type": "code",
   "execution_count": null,
   "id": "c7fc8209",
   "metadata": {},
   "outputs": [],
   "source": []
  },
  {
   "cell_type": "markdown",
   "id": "8a6b15a0",
   "metadata": {},
   "source": [
    "# LAMBDA FUNCTION"
   ]
  },
  {
   "cell_type": "code",
   "execution_count": 7,
   "id": "69a1b0ea",
   "metadata": {},
   "outputs": [],
   "source": [
    "x=lambda a,b : a+b"
   ]
  },
  {
   "cell_type": "code",
   "execution_count": 8,
   "id": "b626b7c0",
   "metadata": {},
   "outputs": [
    {
     "data": {
      "text/plain": [
       "5"
      ]
     },
     "execution_count": 8,
     "metadata": {},
     "output_type": "execute_result"
    }
   ],
   "source": [
    "x(2,3)"
   ]
  },
  {
   "cell_type": "code",
   "execution_count": 17,
   "id": "710b93f9",
   "metadata": {},
   "outputs": [],
   "source": [
    "a=lambda b : b**2      #printing square"
   ]
  },
  {
   "cell_type": "code",
   "execution_count": 18,
   "id": "c45acaf0",
   "metadata": {},
   "outputs": [
    {
     "data": {
      "text/plain": [
       "36"
      ]
     },
     "execution_count": 18,
     "metadata": {},
     "output_type": "execute_result"
    }
   ],
   "source": [
    "a(6)"
   ]
  },
  {
   "cell_type": "code",
   "execution_count": null,
   "id": "8597bcd4",
   "metadata": {},
   "outputs": [],
   "source": [
    "x"
   ]
  },
  {
   "cell_type": "code",
   "execution_count": 23,
   "id": "9283eaeb",
   "metadata": {},
   "outputs": [],
   "source": [
    "a=lambda b : (b**2, b**3, b**3)"
   ]
  },
  {
   "cell_type": "code",
   "execution_count": 24,
   "id": "38bbfd87",
   "metadata": {},
   "outputs": [
    {
     "data": {
      "text/plain": [
       "(25, 125, 125)"
      ]
     },
     "execution_count": 24,
     "metadata": {},
     "output_type": "execute_result"
    }
   ],
   "source": [
    "a(5)"
   ]
  },
  {
   "cell_type": "markdown",
   "id": "34859500",
   "metadata": {},
   "source": [
    "###### Use lambda function, Accept 2 numbers and print the max. of it"
   ]
  },
  {
   "cell_type": "code",
   "execution_count": 21,
   "id": "9b2d4dbd",
   "metadata": {},
   "outputs": [],
   "source": [
    "s=lambda a,b : print(\"a is greater \") if(a>b) else print('b is greater')"
   ]
  },
  {
   "cell_type": "code",
   "execution_count": 22,
   "id": "b84cc43a",
   "metadata": {},
   "outputs": [
    {
     "name": "stdout",
     "output_type": "stream",
     "text": [
      "a is greater \n"
     ]
    }
   ],
   "source": [
    "s(12,6)"
   ]
  },
  {
   "cell_type": "code",
   "execution_count": null,
   "id": "0603d869",
   "metadata": {},
   "outputs": [],
   "source": []
  },
  {
   "cell_type": "markdown",
   "id": "dc7f26d3",
   "metadata": {},
   "source": [
    "###### User input"
   ]
  },
  {
   "cell_type": "code",
   "execution_count": 26,
   "id": "f484db78",
   "metadata": {},
   "outputs": [
    {
     "name": "stdout",
     "output_type": "stream",
     "text": [
      "Enter a number : 5,9\n"
     ]
    },
    {
     "data": {
      "text/plain": [
       "9"
      ]
     },
     "execution_count": 26,
     "metadata": {},
     "output_type": "execute_result"
    }
   ],
   "source": [
    "max= lambda x,y :x if x>y else y \n",
    "a,b= eval(input(\"Enter a number : \"))\n",
    "max(a,b)"
   ]
  },
  {
   "cell_type": "code",
   "execution_count": 33,
   "id": "98b66649",
   "metadata": {
    "scrolled": true
   },
   "outputs": [
    {
     "name": "stdout",
     "output_type": "stream",
     "text": [
      "Enter a number : 5,6\n",
      "The max number is : 6\n"
     ]
    }
   ],
   "source": [
    "max= lambda x,y :x if x>y else y \n",
    "a,b= eval(input(\"Enter a number : \"))\n",
    "print(\"The max number is :\",max(a,b))"
   ]
  },
  {
   "cell_type": "code",
   "execution_count": 36,
   "id": "0724150b",
   "metadata": {},
   "outputs": [
    {
     "name": "stdout",
     "output_type": "stream",
     "text": [
      "Enter a 1st number : 5\n",
      "Enter a 2nd number : 6\n",
      "The max number is : 6\n"
     ]
    }
   ],
   "source": [
    "max= lambda x,y :x if x>y else y \n",
    "print(\"The max number is :\",max(eval(input(\"Enter a 1st number : \")),eval(input(\"Enter a 2nd number : \"))))"
   ]
  },
  {
   "cell_type": "code",
   "execution_count": 38,
   "id": "6e39f1b6",
   "metadata": {},
   "outputs": [
    {
     "name": "stdout",
     "output_type": "stream",
     "text": [
      "Enter the number is 5\n",
      "The number is positive\n"
     ]
    }
   ],
   "source": [
    "x= lambda n : \"positive\" if(n>0) else \"Negative\" if(n<0) else 'zero'\n",
    "print(\"The number is\", x(eval(input(\"Enter the number is \"))))"
   ]
  },
  {
   "cell_type": "code",
   "execution_count": null,
   "id": "aab7ad48",
   "metadata": {},
   "outputs": [],
   "source": []
  },
  {
   "cell_type": "code",
   "execution_count": 34,
   "id": "7f810574",
   "metadata": {},
   "outputs": [
    {
     "name": "stdout",
     "output_type": "stream",
     "text": [
      "Enter a number : 5\n",
      "The max number is : 25\n"
     ]
    }
   ],
   "source": [
    "a=lambda b : b**2 \n",
    "print(\"The max number is :\",a(int(input(\"Enter a number : \"))))"
   ]
  },
  {
   "cell_type": "code",
   "execution_count": null,
   "id": "82ce7a81",
   "metadata": {},
   "outputs": [],
   "source": []
  },
  {
   "cell_type": "markdown",
   "id": "efc5ae95",
   "metadata": {},
   "source": [
    "# FILTER FUNCTION"
   ]
  },
  {
   "cell_type": "code",
   "execution_count": 41,
   "id": "003c613d",
   "metadata": {},
   "outputs": [
    {
     "name": "stdout",
     "output_type": "stream",
     "text": [
      "[1, 3, 5, 13]\n",
      "[0, 2, 8]\n"
     ]
    }
   ],
   "source": [
    "seq = [0,1,2,3,5,8,13]\n",
    "result = list(filter(lambda x:x%2!=0, seq))\n",
    "print(result)\n",
    "result = filter(lambda x:x%2==0, seq)\n",
    "print(list(result))"
   ]
  },
  {
   "cell_type": "code",
   "execution_count": 47,
   "id": "7b3c0cb5",
   "metadata": {},
   "outputs": [
    {
     "name": "stdout",
     "output_type": "stream",
     "text": [
      "['abc', 'ijk', 'uvw']\n"
     ]
    }
   ],
   "source": [
    "x=['abc','def','ghh','ijk','lmn','pqr','stt','uvw','xyz']\n",
    "result = list(filter(lambda x:x[0] in 'aeiou', x))\n",
    "print(result)"
   ]
  },
  {
   "cell_type": "markdown",
   "id": "460b0a6d",
   "metadata": {},
   "source": [
    "# MAP FUNCTION"
   ]
  },
  {
   "cell_type": "code",
   "execution_count": 50,
   "id": "e2246321",
   "metadata": {},
   "outputs": [
    {
     "name": "stdout",
     "output_type": "stream",
     "text": [
      "[1, 4, 9, 16, 25, 36]\n"
     ]
    }
   ],
   "source": [
    "#double all numbers using map & lambda\n",
    "numbers = (1,2,3,4,5,6)\n",
    "result = map(lambda x: x*x, numbers)\n",
    "print(list(result))"
   ]
  },
  {
   "cell_type": "code",
   "execution_count": 51,
   "id": "adaf88c2",
   "metadata": {},
   "outputs": [
    {
     "name": "stdout",
     "output_type": "stream",
     "text": [
      "[5, 7, 9]\n"
     ]
    }
   ],
   "source": [
    "#add two lists using map & lambda\n",
    "numbers1 = [1,2,3]\n",
    "numbers2 = [4,5,6]\n",
    "result = map(lambda x,y : x+y, numbers1,numbers2)\n",
    "print(list(result))"
   ]
  },
  {
   "cell_type": "code",
   "execution_count": 49,
   "id": "f3b8dafa",
   "metadata": {},
   "outputs": [
    {
     "name": "stdout",
     "output_type": "stream",
     "text": [
      "[['s', 'a', 't'], ['b', 'a', 't'], ['c', 'a', 't'], ['m', 'a', 't']]\n"
     ]
    }
   ],
   "source": [
    "#list of String\n",
    "l=['sat','bat', 'cat', 'mat']\n",
    "test = list(map(list, l))\n",
    "print(test)"
   ]
  },
  {
   "cell_type": "markdown",
   "id": "a6fb211c",
   "metadata": {},
   "source": [
    "# REDUCE FUNCTION"
   ]
  },
  {
   "cell_type": "code",
   "execution_count": 52,
   "id": "7c0fb242",
   "metadata": {},
   "outputs": [],
   "source": [
    "import functools"
   ]
  },
  {
   "cell_type": "code",
   "execution_count": 53,
   "id": "c646d408",
   "metadata": {},
   "outputs": [
    {
     "name": "stdout",
     "output_type": "stream",
     "text": [
      "the sum of the list elements is : 17\n"
     ]
    }
   ],
   "source": [
    "lis = [1,3,5,6,2]\n",
    "print(\"the sum of the list elements is : \", end=\"\")\n",
    "print(functools.reduce(lambda a,b: a+b, lis))"
   ]
  },
  {
   "cell_type": "code",
   "execution_count": 54,
   "id": "fb2312ad",
   "metadata": {},
   "outputs": [
    {
     "name": "stdout",
     "output_type": "stream",
     "text": [
      "The maximum element of the list is : 6\n"
     ]
    }
   ],
   "source": [
    "#using reduce to compute maximum element from list\n",
    "import functools\n",
    "lis = [1,3,5,6,2]\n",
    "print(\"The maximum element of the list is : \", end=\"\")\n",
    "print(functools.reduce(lambda a,b : a if a>b else b, lis))"
   ]
  },
  {
   "cell_type": "code",
   "execution_count": null,
   "id": "046ad4ba",
   "metadata": {},
   "outputs": [],
   "source": []
  }
 ],
 "metadata": {
  "kernelspec": {
   "display_name": "Python 3 (ipykernel)",
   "language": "python",
   "name": "python3"
  },
  "language_info": {
   "codemirror_mode": {
    "name": "ipython",
    "version": 3
   },
   "file_extension": ".py",
   "mimetype": "text/x-python",
   "name": "python",
   "nbconvert_exporter": "python",
   "pygments_lexer": "ipython3",
   "version": "3.11.4"
  }
 },
 "nbformat": 4,
 "nbformat_minor": 5
}
