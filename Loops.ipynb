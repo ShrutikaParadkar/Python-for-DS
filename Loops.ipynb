{
 "cells": [
  {
   "cell_type": "markdown",
   "id": "98b29531",
   "metadata": {},
   "source": [
    "##### While-loop"
   ]
  },
  {
   "cell_type": "code",
   "execution_count": 1,
   "id": "5820e45f",
   "metadata": {},
   "outputs": [
    {
     "name": "stdout",
     "output_type": "stream",
     "text": [
      "HELLO\n",
      "HELLO\n",
      "HELLO\n",
      "HELLO\n"
     ]
    }
   ],
   "source": [
    "i=1\n",
    "while(i<=4):\n",
    "    print('HELLO')\n",
    "    i+=1"
   ]
  },
  {
   "cell_type": "code",
   "execution_count": 2,
   "id": "f82de638",
   "metadata": {},
   "outputs": [
    {
     "name": "stdout",
     "output_type": "stream",
     "text": [
      "Enter the value : 5\n",
      "HELLO\n",
      "HELLO\n",
      "HELLO\n",
      "HELLO\n",
      "HELLO\n"
     ]
    }
   ],
   "source": [
    "a=1\n",
    "i=int(input(\"Enter the value : \"))\n",
    "while(a<=i):\n",
    "    print(\"HELLO\")\n",
    "    a+=1"
   ]
  },
  {
   "cell_type": "code",
   "execution_count": 4,
   "id": "c099d845",
   "metadata": {},
   "outputs": [
    {
     "name": "stdout",
     "output_type": "stream",
     "text": [
      "Enter the value : 8\n",
      "1\n",
      "2\n",
      "3\n",
      "4\n",
      "5\n",
      "6\n",
      "7\n",
      "8\n"
     ]
    }
   ],
   "source": [
    "a=1\n",
    "i=int(input(\"Enter the value : \"))\n",
    "while(a<=i):\n",
    "    print(a)\n",
    "    a+=1"
   ]
  },
  {
   "cell_type": "code",
   "execution_count": 5,
   "id": "95f9837f",
   "metadata": {},
   "outputs": [
    {
     "name": "stdout",
     "output_type": "stream",
     "text": [
      "Enter the value : 6\n",
      "2\n",
      "4\n",
      "6\n",
      "8\n",
      "10\n",
      "12\n"
     ]
    }
   ],
   "source": [
    "#Accept number from user & print the multiplication table of given number\n",
    "a=1\n",
    "i=int(input(\"Enter the value : \"))\n",
    "while(a<=i):\n",
    "    print(a*2)\n",
    "    a+=1"
   ]
  },
  {
   "cell_type": "markdown",
   "id": "0479a25c",
   "metadata": {},
   "source": [
    "##### BREAK & CONTINUE"
   ]
  },
  {
   "cell_type": "code",
   "execution_count": 6,
   "id": "e45495cd",
   "metadata": {},
   "outputs": [
    {
     "name": "stdout",
     "output_type": "stream",
     "text": [
      "Enter the value : 10\n",
      "1\n",
      "2\n",
      "3\n",
      "4\n",
      "5\n",
      "6\n",
      "7\n",
      "End of loop\n"
     ]
    }
   ],
   "source": [
    "a=1\n",
    "i=int(input(\"Enter the value : \"))\n",
    "while(a<i):\n",
    "    if(a==8):\n",
    "        break\n",
    "    print(a)\n",
    "    a+=1\n",
    "print('End of loop')"
   ]
  },
  {
   "cell_type": "code",
   "execution_count": 7,
   "id": "07b67568",
   "metadata": {},
   "outputs": [
    {
     "name": "stdout",
     "output_type": "stream",
     "text": [
      "Enter the value : 10\n",
      "2\n",
      "3\n",
      "5\n",
      "6\n",
      "7\n",
      "9\n",
      "10\n",
      "End of loop\n"
     ]
    }
   ],
   "source": [
    "a=1\n",
    "i=int(input(\"Enter the value : \"))\n",
    "while(a<i):\n",
    "    a+=1\n",
    "    if(a==4 or a==8):\n",
    "        continue\n",
    "    print(a)\n",
    "print('End of loop')"
   ]
  },
  {
   "cell_type": "code",
   "execution_count": 8,
   "id": "5577460d",
   "metadata": {},
   "outputs": [
    {
     "name": "stdout",
     "output_type": "stream",
     "text": [
      "1\n",
      "2\n",
      "3\n"
     ]
    }
   ],
   "source": [
    "i=1\n",
    "while i<6:\n",
    "    print(i)\n",
    "    if i==3:\n",
    "        break\n",
    "    i+=1"
   ]
  },
  {
   "cell_type": "markdown",
   "id": "cb4c55ff",
   "metadata": {},
   "source": [
    "##### WHILE - ELSE"
   ]
  },
  {
   "cell_type": "code",
   "execution_count": 9,
   "id": "0ae0ad72",
   "metadata": {},
   "outputs": [
    {
     "name": "stdout",
     "output_type": "stream",
     "text": [
      "Enter the value : 4\n",
      "1\n",
      "2\n",
      "3\n",
      "4\n",
      "loop executed successfully\n"
     ]
    }
   ],
   "source": [
    "n=int(input(\"Enter the value : \"))\n",
    "i=0\n",
    "while(i<n):\n",
    "    i+=1\n",
    "    if(i==5):\n",
    "        break\n",
    "    print(i)\n",
    "else:                               #else part will print when condition n is under the while condition\n",
    "    print('loop executed successfully')"
   ]
  },
  {
   "cell_type": "markdown",
   "id": "efd79e83",
   "metadata": {},
   "source": [
    "###### 1) check the palindrom"
   ]
  },
  {
   "cell_type": "code",
   "execution_count": 10,
   "id": "b108b054",
   "metadata": {},
   "outputs": [
    {
     "name": "stdout",
     "output_type": "stream",
     "text": [
      "Enter the string : abccba\n",
      "Is the string palindrome ? : True\n"
     ]
    }
   ],
   "source": [
    "#String palindrom\n",
    "s=input('Enter the string : ')\n",
    "a= str(s)==str(s)[::-1]\n",
    "print (\"Is the string palindrome ? : \" + str(a))"
   ]
  },
  {
   "cell_type": "code",
   "execution_count": 11,
   "id": "58e97e54",
   "metadata": {},
   "outputs": [
    {
     "name": "stdout",
     "output_type": "stream",
     "text": [
      "Enter the number :123321\n",
      "Is the number palindrome ? : True\n"
     ]
    }
   ],
   "source": [
    "#integer palindrom\n",
    "s=int(input('Enter the number :'))\n",
    "a=str(s)==str(s)[::-1]\n",
    "print (\"Is the number palindrome ? : \" + str(a))"
   ]
  },
  {
   "cell_type": "code",
   "execution_count": 12,
   "id": "f14652e9",
   "metadata": {},
   "outputs": [
    {
     "name": "stdout",
     "output_type": "stream",
     "text": [
      "0\n",
      "123321\n",
      "1\n"
     ]
    }
   ],
   "source": [
    "#Another way for integer palindrom\n",
    "a=123321\n",
    "b=0\n",
    "while (a!=0):\n",
    "    c=a%10\n",
    "    b=b*10+c\n",
    "    a=a//10\n",
    "print(a)\n",
    "print(b)\n",
    "print(c)"
   ]
  },
  {
   "cell_type": "markdown",
   "id": "397fb86b",
   "metadata": {},
   "source": [
    "###### Q2) Print the table of float number"
   ]
  },
  {
   "cell_type": "code",
   "execution_count": 13,
   "id": "20a6f828",
   "metadata": {},
   "outputs": [
    {
     "name": "stdout",
     "output_type": "stream",
     "text": [
      "Enter the value : 10\n",
      "Enter the table value : 5.5\n",
      "5.5\n",
      "11.0\n",
      "16.5\n",
      "22.0\n",
      "27.5\n",
      "33.0\n",
      "38.5\n",
      "44.0\n",
      "49.5\n",
      "55.0\n"
     ]
    }
   ],
   "source": [
    "a=1\n",
    "i=int(input(\"Enter the value : \"))\n",
    "s=float(input(\"Enter the table value : \"))\n",
    "while(a<=i):\n",
    "    print(a*s)\n",
    "    a+=1"
   ]
  },
  {
   "cell_type": "markdown",
   "id": "e95a522d",
   "metadata": {},
   "source": [
    "###### Q.3) Accept the number from user & check the start & end digit are same or different"
   ]
  },
  {
   "cell_type": "code",
   "execution_count": 14,
   "id": "184404c9",
   "metadata": {},
   "outputs": [
    {
     "name": "stdout",
     "output_type": "stream",
     "text": [
      "Enter any value : 156241\n",
      "Start number & end number are same\n"
     ]
    }
   ],
   "source": [
    "s=int(input(\"Enter any value : \"))\n",
    "s_str=str(s)\n",
    "if s_str[0]==s_str[-1]:\n",
    "    print(\"Start number & end number are same\")\n",
    "else:\n",
    "    print(\"Start number & end number are differnt\")"
   ]
  },
  {
   "cell_type": "markdown",
   "id": "78611a6c",
   "metadata": {},
   "source": [
    "###### Accept the no from the user and perform the addition of all digit of that numbers"
   ]
  },
  {
   "cell_type": "code",
   "execution_count": 17,
   "id": "39a34bc3",
   "metadata": {},
   "outputs": [
    {
     "name": "stdout",
     "output_type": "stream",
     "text": [
      "Enter the value : 5\n",
      "1\n",
      "2\n",
      "3\n",
      "4\n",
      "5\n",
      "Sum of all digits: \n"
     ]
    }
   ],
   "source": [
    "n=int(input(\"Enter the value : \"))\n",
    "i=0\n",
    "while(i<n):\n",
    "    i+=1\n",
    "    if(i==10):\n",
    "        break\n",
    "    print(i)  \n",
    "print (\"Sum of all digits: \")"
   ]
  },
  {
   "cell_type": "markdown",
   "id": "b263ed65",
   "metadata": {},
   "source": [
    "##### FOR LOOP"
   ]
  },
  {
   "cell_type": "code",
   "execution_count": 18,
   "id": "60db36dc",
   "metadata": {},
   "outputs": [
    {
     "name": "stdout",
     "output_type": "stream",
     "text": [
      "1\n",
      "2\n",
      "7\n",
      "8\n",
      "9\n",
      "0\n",
      "12\n",
      "34\n",
      "5\n",
      "5\n"
     ]
    }
   ],
   "source": [
    "l=[1,2,7,8,9,0,12,34,5,5]\n",
    "i=0\n",
    "while(i<len(l)):\n",
    "    print(l[i])\n",
    "    i+=1"
   ]
  },
  {
   "cell_type": "code",
   "execution_count": 19,
   "id": "d76abf6f",
   "metadata": {},
   "outputs": [
    {
     "name": "stdout",
     "output_type": "stream",
     "text": [
      "1\n",
      "2\n",
      "7\n",
      "8\n",
      "9\n",
      "0\n",
      "12\n",
      "34\n",
      "5\n",
      "5\n"
     ]
    }
   ],
   "source": [
    "#Same code using for loop \n",
    "l=[1,2,7,8,9,0,12,34,5,5]\n",
    "for x in l:\n",
    "    print(x)"
   ]
  },
  {
   "cell_type": "code",
   "execution_count": 20,
   "id": "f1496238",
   "metadata": {},
   "outputs": [
    {
     "name": "stdout",
     "output_type": "stream",
     "text": [
      "12\n",
      "34\n"
     ]
    }
   ],
   "source": [
    "l=[1,2,7,8,9,0,12,34,5,5]\n",
    "for x in l:\n",
    "    if (x>10):\n",
    "        print(x)"
   ]
  },
  {
   "cell_type": "code",
   "execution_count": 21,
   "id": "b7676c38",
   "metadata": {},
   "outputs": [
    {
     "name": "stdout",
     "output_type": "stream",
     "text": [
      "Apple\n",
      "Banana\n",
      "Mango\n",
      "Watermelon\n"
     ]
    }
   ],
   "source": [
    "fruits=['Apple','Banana','Mango','Watermelon']\n",
    "for i in fruits:\n",
    "    print(i)"
   ]
  },
  {
   "cell_type": "code",
   "execution_count": 22,
   "id": "5535f547",
   "metadata": {},
   "outputs": [
    {
     "name": "stdout",
     "output_type": "stream",
     "text": [
      "D a t a   S c i e n c e "
     ]
    }
   ],
   "source": [
    "l='Data Science'\n",
    "for i in l:\n",
    "    print(i,end=\" \")"
   ]
  },
  {
   "cell_type": "markdown",
   "id": "e4d5a45a",
   "metadata": {},
   "source": [
    "#### Range Function"
   ]
  },
  {
   "cell_type": "code",
   "execution_count": 24,
   "id": "efa6b8f2",
   "metadata": {},
   "outputs": [
    {
     "name": "stdout",
     "output_type": "stream",
     "text": [
      "1\n",
      "2\n",
      "3\n",
      "4\n",
      "5\n",
      "6\n",
      "7\n",
      "8\n",
      "9\n"
     ]
    }
   ],
   "source": [
    "for i in range(1,10):\n",
    "    print(i)"
   ]
  },
  {
   "cell_type": "code",
   "execution_count": 25,
   "id": "9e9ba08f",
   "metadata": {},
   "outputs": [
    {
     "name": "stdout",
     "output_type": "stream",
     "text": [
      "1\n",
      "3\n",
      "5\n",
      "7\n",
      "9\n",
      "11\n",
      "13\n",
      "15\n",
      "17\n",
      "19\n"
     ]
    }
   ],
   "source": [
    "for i in range(1,20,2):\n",
    "    print(i)"
   ]
  },
  {
   "cell_type": "code",
   "execution_count": 26,
   "id": "4562720b",
   "metadata": {},
   "outputs": [
    {
     "name": "stdout",
     "output_type": "stream",
     "text": [
      "Enter a number : 5\n",
      "5\n",
      "10\n",
      "15\n",
      "20\n",
      "25\n",
      "30\n",
      "35\n",
      "40\n",
      "45\n",
      "50\n"
     ]
    }
   ],
   "source": [
    "#Print Multiplication Table\n",
    "num=int(input(\"Enter a number : \"))\n",
    "for i in range(1,11):\n",
    "    print(num*i)"
   ]
  },
  {
   "cell_type": "markdown",
   "id": "1119af2f",
   "metadata": {},
   "source": [
    "#### Nested Loop"
   ]
  },
  {
   "cell_type": "code",
   "execution_count": 27,
   "id": "f3cf444c",
   "metadata": {},
   "outputs": [],
   "source": [
    "list1=['Maths','Science','Geo','Eco','Social']\n",
    "list2=[78,90,70,56,90]"
   ]
  },
  {
   "cell_type": "code",
   "execution_count": 28,
   "id": "a464c89c",
   "metadata": {},
   "outputs": [
    {
     "name": "stdout",
     "output_type": "stream",
     "text": [
      "Maths 78\n",
      "Maths 90\n",
      "Maths 70\n",
      "Maths 56\n",
      "Maths 90\n",
      "Science 78\n",
      "Science 90\n",
      "Science 70\n",
      "Science 56\n",
      "Science 90\n",
      "Geo 78\n",
      "Geo 90\n",
      "Geo 70\n",
      "Geo 56\n",
      "Geo 90\n",
      "Eco 78\n",
      "Eco 90\n",
      "Eco 70\n",
      "Eco 56\n",
      "Eco 90\n",
      "Social 78\n",
      "Social 90\n",
      "Social 70\n",
      "Social 56\n",
      "Social 90\n"
     ]
    }
   ],
   "source": [
    "for i in list1:           #Outer loop\n",
    "    for k in list2:       #Inner loop\n",
    "        print(i,k)"
   ]
  },
  {
   "cell_type": "code",
   "execution_count": 29,
   "id": "7958e98b",
   "metadata": {},
   "outputs": [
    {
     "name": "stdout",
     "output_type": "stream",
     "text": [
      "red Apple\n",
      "red Banana\n",
      "red Orange\n",
      "blue Apple\n",
      "blue Banana\n",
      "blue Orange\n",
      "green Apple\n",
      "green Banana\n",
      "green Orange\n"
     ]
    }
   ],
   "source": [
    "a=['red','blue','green']\n",
    "b=['Apple','Banana','Orange']\n",
    "for i in a:\n",
    "    for h in b:\n",
    "        print(i,h)"
   ]
  },
  {
   "cell_type": "code",
   "execution_count": 30,
   "id": "9a4f11db",
   "metadata": {},
   "outputs": [],
   "source": [
    "l=[34,66,43,23,27,88,74,16]"
   ]
  },
  {
   "cell_type": "code",
   "execution_count": 31,
   "id": "70fc1ab4",
   "metadata": {},
   "outputs": [
    {
     "name": "stdout",
     "output_type": "stream",
     "text": [
      "34 is Even\n",
      "66 is Even\n",
      "43 is Odd\n",
      "23 is Odd\n",
      "27 is Odd\n",
      "88 is Even\n",
      "74 is Even\n",
      "16 is Even\n"
     ]
    }
   ],
   "source": [
    "for c in l:\n",
    "    if (c%2==0):\n",
    "        print(c, \"is Even\")\n",
    "    else:\n",
    "        print(c,'is Odd')"
   ]
  },
  {
   "cell_type": "code",
   "execution_count": 32,
   "id": "c6ce671c",
   "metadata": {},
   "outputs": [],
   "source": [
    "city=['Bangalore','Mumbai','Pune']"
   ]
  },
  {
   "cell_type": "code",
   "execution_count": 33,
   "id": "c0cbe3be",
   "metadata": {},
   "outputs": [
    {
     "name": "stdout",
     "output_type": "stream",
     "text": [
      "Current city: Bangalore\n",
      "Current city: Mumbai\n",
      "Current city: Pune\n",
      "Good Bye!\n"
     ]
    }
   ],
   "source": [
    "for index in range(len(city)):\n",
    "    print(\"Current city:\", city[index])\n",
    "print(\"Good Bye!\")"
   ]
  },
  {
   "cell_type": "code",
   "execution_count": 34,
   "id": "25c8aa84",
   "metadata": {},
   "outputs": [
    {
     "name": "stdout",
     "output_type": "stream",
     "text": [
      "Welcome\n"
     ]
    }
   ],
   "source": [
    "a=7\n",
    "b=0\n",
    "for i in range(2,a):\n",
    "    if (a%i==0):\n",
    "        b+=1\n",
    "        c=b\n",
    "if(b==0):\n",
    "    print(\"Welcome\")\n",
    "else:\n",
    "    print(\"Datamites\")"
   ]
  },
  {
   "cell_type": "code",
   "execution_count": 35,
   "id": "2c299426",
   "metadata": {},
   "outputs": [
    {
     "name": "stdout",
     "output_type": "stream",
     "text": [
      "True\n"
     ]
    }
   ],
   "source": [
    "#Accept no. & check the no. is pallindrom or not without str()\n",
    "def solve(num):\n",
    "    a = 0\n",
    "    c = num\n",
    "    while num > 0:\n",
    "        r = num % 10\n",
    "        num = num // 10\n",
    "        a = (10 * a) + r\n",
    "    if a == c:\n",
    "        return True\n",
    "    else:\n",
    "        return False\n",
    "\n",
    "num = 25352\n",
    "print(solve(num))"
   ]
  },
  {
   "cell_type": "code",
   "execution_count": null,
   "id": "b20583b5",
   "metadata": {},
   "outputs": [],
   "source": []
  }
 ],
 "metadata": {
  "kernelspec": {
   "display_name": "Python 3 (ipykernel)",
   "language": "python",
   "name": "python3"
  },
  "language_info": {
   "codemirror_mode": {
    "name": "ipython",
    "version": 3
   },
   "file_extension": ".py",
   "mimetype": "text/x-python",
   "name": "python",
   "nbconvert_exporter": "python",
   "pygments_lexer": "ipython3",
   "version": "3.11.4"
  }
 },
 "nbformat": 4,
 "nbformat_minor": 5
}
