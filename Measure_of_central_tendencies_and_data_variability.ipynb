{
 "cells": [
  {
   "cell_type": "code",
   "execution_count": 1,
   "metadata": {
    "executionInfo": {
     "elapsed": 2,
     "status": "ok",
     "timestamp": 1680958083992,
     "user": {
      "displayName": "Jitendra Rathod",
      "userId": "08588782662248261812"
     },
     "user_tz": -330
    },
    "id": "J4t3JaZlRb_9"
   },
   "outputs": [],
   "source": [
    "## importing libraries\n",
    "import pandas as pd\n",
    "import numpy as np\n",
    "import matplotlib.pyplot as plt\n",
    "%matplotlib inline"
   ]
  },
  {
   "cell_type": "code",
   "execution_count": 2,
   "metadata": {
    "executionInfo": {
     "elapsed": 2,
     "status": "ok",
     "timestamp": 1680958087210,
     "user": {
      "displayName": "Jitendra Rathod",
      "userId": "08588782662248261812"
     },
     "user_tz": -330
    },
    "id": "XIY82ZxkRcAD"
   },
   "outputs": [],
   "source": [
    "## generating a random variable\n",
    "exp=np.random.normal(25,15,1000) #mean,std dev,count"
   ]
  },
  {
   "cell_type": "code",
   "execution_count": 3,
   "metadata": {
    "colab": {
     "base_uri": "https://localhost:8080/"
    },
    "collapsed": true,
    "executionInfo": {
     "elapsed": 3,
     "status": "ok",
     "timestamp": 1680958089923,
     "user": {
      "displayName": "Jitendra Rathod",
      "userId": "08588782662248261812"
     },
     "user_tz": -330
    },
    "id": "F6eAjM6iuIpQ",
    "outputId": "35699d10-17b0-468b-9763-36df35834bca"
   },
   "outputs": [
    {
     "data": {
      "text/plain": [
       "array([ 21.54061158,  35.73719217,  67.24803807,   6.92983791,\n",
       "        26.24658427,   1.17311467,  47.65884202,   1.89430852,\n",
       "        16.38299247,  36.77960061,  10.03776897,  32.58658545,\n",
       "         5.43822809,   9.75714471,  25.02403992,  -2.25199072,\n",
       "         7.94137881,  34.43823221,  42.4568657 ,  28.42918085,\n",
       "         8.83752667,  43.51689402,  31.90802853,  25.86071927,\n",
       "         4.25881534,  45.71883812,  22.59163628,  16.97685563,\n",
       "        35.94443567,  36.98265838,  21.37830299,  39.6692219 ,\n",
       "        30.39246395,  36.63908866,  32.73399235,  -6.22604417,\n",
       "         1.06505055,  35.76564114,  16.91663798,  27.33501023,\n",
       "        24.00128235,  28.8797454 ,  23.38533676,  33.85468216,\n",
       "        25.39451828,   9.73867596,  13.43779237,  49.71397086,\n",
       "        10.55375404,  43.07011897,  30.21545178,  49.19261559,\n",
       "        24.39129575,  36.00346409,  46.15746254,  34.75577188,\n",
       "        33.18679968,   1.76923822,  29.44662132,  51.65624728,\n",
       "        26.49660635,  13.32549065,  19.66276498,  41.16768609,\n",
       "        34.25332239,  -1.28266273,  59.06831078,  10.45519971,\n",
       "        28.61483542,  10.94047283,  28.93728779,  29.05325261,\n",
       "        17.97331379,  29.06866215,  15.63662631,  29.06522026,\n",
       "        18.05902422,  37.02693919,  36.47881362,  26.15520299,\n",
       "        42.93257697,  17.3532031 ,  35.00262894,  37.64952636,\n",
       "        37.77493092,  17.83909819,  40.38284088,  43.54866777,\n",
       "        37.80431453,   6.15554016,  37.37786365,  41.42308361,\n",
       "        24.09728013,   6.40316527,  33.24221833,  41.94159018,\n",
       "         8.17998735,  29.90712814,  30.08969288,  37.7203149 ,\n",
       "        23.69252299,   1.65248484,  16.73100802,  38.0333227 ,\n",
       "        38.59789005,   5.85716185,  53.6773866 ,  37.18030265,\n",
       "        29.47893192,   6.66654105,  18.6947493 ,  33.2781643 ,\n",
       "        19.01434153,   2.89656055,  45.58183372,  39.11233639,\n",
       "        39.2039812 ,  18.52596704,   7.88586373,  15.15788217,\n",
       "        20.50495949,  -0.46679951,  25.12494606,  31.34009249,\n",
       "        45.66673986,  18.93003401,   9.21995285,  46.43955015,\n",
       "        59.03695542,  44.33671568,  21.80189043,  32.59447483,\n",
       "        37.48647816,  45.86287003,  53.13799314,  36.4710105 ,\n",
       "        53.27634829,  23.94727017,  31.24762316, -11.7450611 ,\n",
       "         9.0216221 ,  17.32767858,  58.91084481,  29.91174614,\n",
       "        27.83768858,  57.38527617,  44.90469263,  20.57943158,\n",
       "        64.71045875,  20.87405687,  48.63231552,  51.58171568,\n",
       "        34.22097595,  63.94519127,  19.81739219,  35.05910273,\n",
       "        15.45250584,  12.12190447,  17.64260723,  22.61792229,\n",
       "         9.80790831,  46.75228042,  32.12546048,  12.48553608,\n",
       "        25.30967732,   8.20059039,   3.60495584,  25.28049661,\n",
       "        15.74064933,  40.72836696,   2.95626206,  12.23998743,\n",
       "       -22.55046833,  41.32194664,  31.684396  ,   1.35835148,\n",
       "        24.62966717,  22.05241503,  18.74214948,  -2.15099238,\n",
       "        17.46243554,   4.13947887,  31.64851255,  30.09290894,\n",
       "        36.19829921,  44.5369831 ,  40.65188055,   2.86874164,\n",
       "        26.74969321,   5.26831932,  26.05712056,  36.84163284,\n",
       "        33.01108606,  37.87904397,  18.38972079,  24.03766241,\n",
       "        25.73731335, -16.19327381,  28.57714341,  29.32632861,\n",
       "        18.3679873 ,  29.66254813,  32.4075999 ,  24.26575172,\n",
       "        29.82142001,  51.19949446,  37.35728094,  36.54119685,\n",
       "        34.81928803,  25.30174714,  15.80804872,  18.10759157,\n",
       "        20.81062804,  30.98255712,  16.90770413,  21.77692142,\n",
       "        11.60621555,  18.67997302,  26.01210536,  42.74105649,\n",
       "        17.8810201 ,   5.71738184,  11.17543589,  35.83142858,\n",
       "        40.53040159,  63.89471459,  17.84381186,  18.58550914,\n",
       "        39.79566492,  30.39686225,  34.67976585,  32.98929532,\n",
       "        20.93731509,  13.65564671,   6.90256077, -12.33859162,\n",
       "        32.49982906,  15.42277322,   5.40443805,  40.66248875,\n",
       "        47.38960607,  35.37138315,  16.97815192,  37.5383816 ,\n",
       "        31.48822579,  15.68725831,  24.046515  ,   3.14758132,\n",
       "        17.81892586,  33.54916037,  15.95378887,  23.79636528,\n",
       "        27.85246967,   2.73691237,  56.80155486,  26.68207595,\n",
       "       -29.47075026,   3.67144937,  34.58207651,   4.11714723,\n",
       "         8.38769353,  14.93321883,   4.73538071,   2.10985295,\n",
       "        30.77152003,   6.5492414 ,   4.52023301,   7.77102275,\n",
       "        42.6988651 ,  38.24672192,  17.7285148 ,  22.21420755,\n",
       "        19.81207669,  24.95860821,  40.24069316,  36.86060777,\n",
       "        38.44981218,  35.49290276,  14.9019757 ,  58.87183879,\n",
       "        48.18042324,  25.40518962,  46.12027325,   3.81394077,\n",
       "        18.50223301,  18.61778008,  25.89752483,  18.44650419,\n",
       "        -3.60096703,  50.32761565,  50.97476016,  25.27155418,\n",
       "        15.10879474,  17.02731215,  34.65185815,  46.15008108,\n",
       "        14.00323203,  35.5085387 ,  16.94382075,  26.00688791,\n",
       "        16.89756356,  22.54577956,  42.12105861,  19.42060623,\n",
       "        30.07349506,  51.03161148,  31.36391451,  38.88604959,\n",
       "        31.54430375,  35.91950843,   8.58120514,  29.73665518,\n",
       "        51.29078875,  -4.21286869,   9.50841582,  20.72149749,\n",
       "        41.66605243,  31.09401822,  27.16800615,  17.98332218,\n",
       "        38.21854496,  15.54259792,  45.88436796,  11.46837869,\n",
       "        15.75298771,  10.91653991,  18.01513401,  32.83965067,\n",
       "        22.95386519,  47.15248402,  15.47550543,  48.79915388,\n",
       "        19.68662509,  13.52449021,  27.55254477,  31.66766762,\n",
       "        33.41428116,   3.68632399,  31.97376347,  15.34551583,\n",
       "        41.44986562,  -0.4495861 ,  19.61488356,  40.11669255,\n",
       "        53.17946652,  19.20856751,  17.14923876,  20.83475104,\n",
       "        42.84753264,  -9.19727568,  39.74785828,  54.16851791,\n",
       "        23.37469238,  47.81107519,  -3.38411522,  51.2243036 ,\n",
       "        14.92184086,  58.48683531,   1.84455187,  22.51618112,\n",
       "        42.64487288,  50.95278473,  24.76398719,  28.46784667,\n",
       "         1.11496676,  23.66606549,  14.25880298,  14.54792314,\n",
       "        35.15626421,  40.96023026,  40.53733107,  27.79581996,\n",
       "        22.35938413,   3.04943638,  12.73861402,  17.9373955 ,\n",
       "         9.25419206,   2.37282016,  -5.75299434,  41.586445  ,\n",
       "        13.03899877,  32.69327867,  32.4362373 ,  19.75334744,\n",
       "        29.49785135,  23.87120677,  31.79695737,  10.47576291,\n",
       "        32.68996917,  33.35845656,  37.85759527,  34.08767023,\n",
       "        -6.2808765 ,  31.48929547,  18.49289139,  19.44878965,\n",
       "         6.63297368,  25.29703184,   6.00485182,  19.21626707,\n",
       "        26.29147939,  12.08398007,  20.49119605,   9.26451578,\n",
       "        32.56015939,  29.2979957 ,  20.36007163,  24.23140034,\n",
       "        10.13552687,  -6.69295747,   9.63000229,  13.79012609,\n",
       "        16.80919042,  21.81940805,  33.9766109 ,  31.85466124,\n",
       "        33.10044339,  42.79683217,  22.94657917,  23.82048376,\n",
       "        14.75038253,  31.91429699,  30.64859458,  17.91128116,\n",
       "        23.81711455,  40.51528384,  23.35450079,  16.77954549,\n",
       "        37.92331504,  13.72352838,  35.96692092,  53.22529013,\n",
       "        39.37633302,  26.63404291,  22.57762342, -12.49688998,\n",
       "        17.40782348,  38.53579646,  37.09734817,  29.09757471,\n",
       "        -6.25036967,  28.87767   ,  12.91657862,  19.05465692,\n",
       "         4.67944142,  -9.17178602,  13.17834876,  42.19556245,\n",
       "        29.46605697,  37.63285914,  36.06749845,  13.73855777,\n",
       "        37.80298507,  27.86900297,  10.05093756,  26.48581694,\n",
       "        14.75448223,   1.37542084,  15.04850356,  29.95475053,\n",
       "         2.18189991,  30.33695156,  23.95081025,  31.23766574,\n",
       "        37.06053247,  37.20334023,  28.97394289,  45.32065284,\n",
       "        46.84018985,  28.90650115,  14.80560355,  32.11029426,\n",
       "        10.62769168,  29.08388545,  19.10403848,  30.1035766 ,\n",
       "        21.21361705,  24.01818361,  34.93729924,  35.38214168,\n",
       "        23.23880419,  21.29679144,  21.72356317,  37.35158079,\n",
       "        27.61605142,  38.54843411,  14.28397481,  44.85716608,\n",
       "        17.53621893,  16.06135155,   9.39929277,  24.09580448,\n",
       "        11.33111426,  19.27820059,  36.08320489,  34.07261411,\n",
       "        22.6705337 ,  33.0229182 ,  46.47551981,  12.28022224,\n",
       "        58.26878726,   2.86231525,  37.84243306,   4.72952182,\n",
       "        33.37307221,  35.01685201,   6.20598654,  20.22693147,\n",
       "        24.62762929,  15.94784335, -10.44757706,  24.33452191,\n",
       "         7.15911094,  49.79746106,  27.03466616,   0.76066692,\n",
       "        22.7218167 ,  23.52811581,  14.55660415,  15.34150367,\n",
       "        29.32382402,  14.98406975,  22.96964734,  38.40567839,\n",
       "        31.08470113,  17.57645937,  13.17670757,  48.17452698,\n",
       "        65.00992169,  22.5377567 ,  39.16587252,  -0.25174484,\n",
       "        54.75245862,   5.63802478,  33.52701927,  16.73632892,\n",
       "         3.59286918,  25.49416417,  21.93857857,  47.20570144,\n",
       "        23.85133815,  43.46681653,  17.50029451,  37.61834391,\n",
       "        37.24740255,   4.71565453,  43.65812997,  36.97965708,\n",
       "        27.47300599,  -0.53496787,  39.92873467,  28.06598333,\n",
       "        34.29057282,  13.64989831,  19.54616899,  22.50201954,\n",
       "        30.66411532,  28.72929767,  32.24526989,   5.03803323,\n",
       "        26.25415183,   9.28525885,  28.27397054,  10.66097885,\n",
       "        32.31992239,  14.65360258,  21.81879588,  -1.65161935,\n",
       "        -4.92548365,  41.83369393,  13.08924399,  10.10355322,\n",
       "        34.63918097,  36.09491347,  19.14600985,  19.03847959,\n",
       "        34.7239806 ,  32.76832699,  35.03378937,  40.49609925,\n",
       "        -0.3139255 ,  18.40916422,  27.98465916,  49.00838338,\n",
       "        16.04463684,  28.96103731,  32.13501039,  21.85931964,\n",
       "        -3.57098291,  35.18815102,   0.07577738,  29.29442712,\n",
       "         0.66127385,  23.82898526,  10.39359423,  36.54835856,\n",
       "        25.76381846,  32.54214851,  17.25287317,   1.29570104,\n",
       "        28.30088733,  39.19264085,  17.95790088,  31.15604324,\n",
       "        40.30091629,  22.93214639,  45.72349491,   4.67157857,\n",
       "        25.68940223,  37.59014922,  28.74179763,  20.95028972,\n",
       "        14.58042067,  18.36767551,  19.69930927,  31.44298668,\n",
       "        14.86443016,  -7.69210669,  32.28080741,  14.00581187,\n",
       "        42.57207581,  11.54518171,   3.84945987,   0.65352066,\n",
       "         7.36440642,  26.40025851,  38.04273087,  37.57022878,\n",
       "        48.25246412,  13.46130605,  14.66391557,  31.46041108,\n",
       "        39.8453732 ,  34.58636463,   8.599789  ,  16.6307721 ,\n",
       "        -0.66552687,  45.01197205,  21.09506622,  26.33643324,\n",
       "        14.70971032,  24.35632899,  36.03624775,   8.7960826 ,\n",
       "        13.59304513,  33.40855851,  38.00948097,  55.83661203,\n",
       "        23.60808759,  36.90879204,  37.92246936,  17.10973373,\n",
       "        33.82579461,  24.85372843,  48.50484448,  26.91488147,\n",
       "        28.03416301,  36.83275837,  40.91516562,  17.02204061,\n",
       "        15.50673383,  29.15946341,  20.05983578,  21.8146269 ,\n",
       "        39.1692679 ,  22.91318131,  42.06131085,  20.75981046,\n",
       "        21.94745798,  48.44760145,  25.11009719,  32.04124607,\n",
       "        14.33993202,  25.67809023,  18.71593875,  32.08325396,\n",
       "        28.66505551,  11.01261206,  16.82881247,  47.06757174,\n",
       "        34.08133924,  11.4120663 ,  20.57036341,  27.07550176,\n",
       "        12.33479015,  14.10147319, -12.57121655,  15.91790495,\n",
       "        33.25779974,  25.408306  ,   9.83058662,  33.71041645,\n",
       "        10.98275966,  37.6674745 ,  38.6902834 ,  27.12359318,\n",
       "        16.07520415,  13.11437607,   4.83398895,  38.21747896,\n",
       "        18.85116343,  51.99634028,  31.54353839,  15.39003278,\n",
       "        37.65883478,  22.64171354,  36.80723444,  49.79395136,\n",
       "       -16.40577349,   2.19100423,  32.0400465 ,  21.50802884,\n",
       "        23.77427859,  38.57755953,  35.14297644,  37.79621749,\n",
       "       -18.60493812,  14.22329789,  37.22400706,  52.436115  ,\n",
       "         7.91299407,  39.58858901,  12.45218332,  33.44165447,\n",
       "         3.17496014,  18.33219275,   7.17640419,  38.90331086,\n",
       "        15.44806183,  10.34396706,  31.66672847,  33.86712697,\n",
       "        33.83480065,  45.4326494 ,   0.16736994,  22.21517433,\n",
       "        12.33695799,  17.35320298,  48.18766259,  37.13454701,\n",
       "        39.77557716,   8.74005709,  40.47078654,  24.81498967,\n",
       "        16.77620326,  -6.99775952,  53.88140218,  25.39039119,\n",
       "        -4.04738286,  41.03274343,  17.76947556,  19.15011462,\n",
       "        30.63406393,  -1.51410578,  21.43655105,  33.43365408,\n",
       "        22.55578122,   3.23341541, -22.55256199,  29.12038427,\n",
       "        38.88457646,   5.15585127,  49.73760484,   3.85498467,\n",
       "        38.93581184,  16.8968289 ,  26.93267887,  15.74600519,\n",
       "        30.34735044,   0.90881206,  20.99828365,  26.06348005,\n",
       "        -4.09427795,  12.65289168,  46.77198454,  22.68651726,\n",
       "        24.33000058,  32.23097156,  20.96506122,  33.62178522,\n",
       "        36.58771611,  35.62166288,  -3.75706259,  10.80711048,\n",
       "        24.11088714,  40.67851269,  11.33614047,  40.08979908,\n",
       "        33.25514357,  27.50593971,  49.03479773,  31.47417892,\n",
       "        33.37627506,  15.84088874,   9.27130547,   6.66632377,\n",
       "        13.41540419,   2.50088186,  -0.58784956,  36.28720165,\n",
       "        -9.25368502,  34.20191993,  12.44902951,  34.34713616,\n",
       "        19.75399087,  39.62221376,  34.19291236,  11.38039007,\n",
       "        41.82676417,  -4.60991063,  15.61104044,  42.5020046 ,\n",
       "        29.46004437,  36.67786856,  11.40929927,  36.28858288,\n",
       "        31.50219866,  23.7955804 ,  26.88387622,  39.36376028,\n",
       "         9.90555927,   6.84376128,  40.71428048,  37.42926878,\n",
       "        30.3252856 ,  21.90255473,  17.15062855,   4.67048702,\n",
       "        26.55363919,  51.63892017,  30.24055112,  33.3987131 ,\n",
       "         9.40119889,  12.18325666,  67.51787762,  35.03077367,\n",
       "        24.62599652,  20.97913214,  42.96271451,  43.77737952,\n",
       "         9.46674328,  31.58063549,   2.91965733,   0.93606636,\n",
       "        17.50876699,  28.46181044,  19.0423412 ,  42.89142467,\n",
       "       -13.17100768,  26.65289259,  38.70004201,  23.39287879,\n",
       "        26.18702143,  38.76629846,  30.99118174,  24.1618038 ,\n",
       "        -2.61490433,  47.50657565,  36.54874601,   6.95247108,\n",
       "        39.35352014,  23.95546026,  13.64441667,  34.46984896,\n",
       "         7.9373121 ,  28.55389786,  17.35721941,  19.08641585,\n",
       "        37.34143986,  38.08497364,   9.19447769,  11.06997866,\n",
       "        36.02232067,  55.92021727,  12.32884472,  33.32057978,\n",
       "        16.2777966 ,  24.1922842 ,  30.55004963,  38.93147372,\n",
       "        45.15294632,  25.06354249,  19.05756478,  23.82153664,\n",
       "        33.98486049,  25.65983124,  33.32616929,   9.10421047,\n",
       "        22.53694658,  47.22052223,  19.76817586,   6.64616626,\n",
       "        25.31068435,  15.24330861,  30.89269703,  24.69620424,\n",
       "        14.65742028,  16.02811376,   1.19287348, -14.86047756,\n",
       "        16.99185647,  30.73482502,  20.7725244 ,  36.92098   ,\n",
       "        28.83507773,  19.71591371,  25.26481017,   1.57652567,\n",
       "        44.83670536,  33.0299979 ,  25.21182572,  41.92424676,\n",
       "        33.18816566,  38.44802047,  18.2676513 ,  33.74374078,\n",
       "         6.4581287 ,  28.97426049,   1.33748358,  36.65773041,\n",
       "        51.71210443,  47.31999473,  33.00698053,  28.34678605,\n",
       "        49.84938854,  19.89831288,  13.04516704,  14.09217806,\n",
       "        34.89050194,  39.93728519,  33.05817938,  14.08881303,\n",
       "        40.12681946,  23.9545952 ,  30.76802055,  28.42583773,\n",
       "        43.51925407,  30.85575152,  48.28118619,  25.70985129,\n",
       "        12.60978849,  35.65222098,  34.83308637,   5.38824333,\n",
       "        19.21422034,  25.76757843,  10.79727114,  33.56682633,\n",
       "        35.55176226,  54.05207448,  44.72761255,  30.4920805 ,\n",
       "        32.84495151,  52.34881888,  48.49185014,  13.04061096,\n",
       "        24.91434115,  32.25508988,   3.44202389,   9.68329291,\n",
       "        16.59592096,  13.55529775,  41.04235837,  23.20054682,\n",
       "        47.42783771,  42.55177874,  28.15742607,  22.65628437,\n",
       "         8.2264538 ,  72.54392019,  39.11408115,  39.56631798,\n",
       "        27.01153679,  32.10332036,   5.65349053,  35.13023164,\n",
       "        26.33582007,  16.23641752,  15.81962971,  30.79841264,\n",
       "        17.18076189,  53.98507604,  33.78988865,  36.16635874,\n",
       "        28.64446694,  43.56697866,  52.87627668,  26.63648971,\n",
       "        49.40614654,  20.37276069,  17.69895066,  61.70998583,\n",
       "        43.06487011,   2.22344785,   7.65455208,  29.71345029,\n",
       "        39.58707764,  11.48284791,  44.0262477 ,  28.5658976 ])"
      ]
     },
     "execution_count": 3,
     "metadata": {},
     "output_type": "execute_result"
    }
   ],
   "source": [
    "exp"
   ]
  },
  {
   "cell_type": "code",
   "execution_count": 4,
   "metadata": {
    "colab": {
     "base_uri": "https://localhost:8080/",
     "height": 430
    },
    "executionInfo": {
     "elapsed": 9,
     "status": "ok",
     "timestamp": 1680958095768,
     "user": {
      "displayName": "Jitendra Rathod",
      "userId": "08588782662248261812"
     },
     "user_tz": -330
    },
    "id": "qQ3bbLI_RcAE",
    "outputId": "8c7a7bb9-45b9-457a-9923-33406da914c1"
   },
   "outputs": [
    {
     "data": {
      "text/plain": [
       "<Axes: ylabel='Frequency'>"
      ]
     },
     "execution_count": 4,
     "metadata": {},
     "output_type": "execute_result"
    },
    {
     "data": {
      "image/png": "[encoded data removed]",
      "text/plain": [
       "<Figure size 640x480 with 1 Axes>"
      ]
     },
     "metadata": {},
     "output_type": "display_data"
    }
   ],
   "source": [
    "## plotting the randomly generated exp\n",
    "\n",
    "pd.DataFrame(exp).plot(kind='hist')"
   ]
  },
  {
   "cell_type": "code",
   "execution_count": 5,
   "metadata": {
    "colab": {
     "base_uri": "https://localhost:8080/"
    },
    "collapsed": true,
    "executionInfo": {
     "elapsed": 2,
     "status": "ok",
     "timestamp": 1680958100566,
     "user": {
      "displayName": "Jitendra Rathod",
      "userId": "08588782662248261812"
     },
     "user_tz": -330
    },
    "id": "mCDXFIVGRcAF",
    "outputId": "bbf5d213-73be-4b65-dfa7-1280488f7ed0"
   },
   "outputs": [
    {
     "data": {
      "text/plain": [
       "25.258411426016092"
      ]
     },
     "execution_count": 5,
     "metadata": {},
     "output_type": "execute_result"
    }
   ],
   "source": [
    "## calculating mean\n",
    "np.mean(exp)"
   ]
  },
  {
   "cell_type": "code",
   "execution_count": 6,
   "metadata": {
    "colab": {
     "base_uri": "https://localhost:8080/"
    },
    "collapsed": true,
    "executionInfo": {
     "elapsed": 2,
     "status": "ok",
     "timestamp": 1680958104829,
     "user": {
      "displayName": "Jitendra Rathod",
      "userId": "08588782662248261812"
     },
     "user_tz": -330
    },
    "id": "oX08dPCqRcAF",
    "outputId": "f9c95d20-f33b-4f7a-b087-959e49312bfd"
   },
   "outputs": [
    {
     "data": {
      "text/plain": [
       "25.69962676083237"
      ]
     },
     "execution_count": 6,
     "metadata": {},
     "output_type": "execute_result"
    }
   ],
   "source": [
    "## calculating median\n",
    "np.median(exp)"
   ]
  },
  {
   "cell_type": "code",
   "execution_count": 7,
   "metadata": {
    "executionInfo": {
     "elapsed": 415,
     "status": "ok",
     "timestamp": 1680958123851,
     "user": {
      "displayName": "Jitendra Rathod",
      "userId": "08588782662248261812"
     },
     "user_tz": -330
    },
    "id": "Hqxa-he2RcAG"
   },
   "outputs": [],
   "source": [
    "## adding one huge point,outlier\n",
    "exp=np.append(exp,[10000])"
   ]
  },
  {
   "cell_type": "code",
   "execution_count": 8,
   "metadata": {
    "collapsed": true,
    "id": "bMZr-h2XUEy1"
   },
   "outputs": [
    {
     "data": {
      "text/plain": [
       "<Axes: ylabel='Frequency'>"
      ]
     },
     "execution_count": 8,
     "metadata": {},
     "output_type": "execute_result"
    },
    {
     "data": {
      "image/png": "[encoded data removed]",
      "text/plain": [
       "<Figure size 640x480 with 1 Axes>"
      ]
     },
     "metadata": {},
     "output_type": "display_data"
    }
   ],
   "source": [
    "pd.DataFrame(exp).plot(kind='hist')"
   ]
  },
  {
   "cell_type": "code",
   "execution_count": 9,
   "metadata": {
    "collapsed": true,
    "id": "fb3ncYKNRcAH"
   },
   "outputs": [
    {
     "data": {
      "text/plain": [
       "35.22318823777832"
      ]
     },
     "execution_count": 9,
     "metadata": {},
     "output_type": "execute_result"
    }
   ],
   "source": [
    "np.mean(exp)"
   ]
  },
  {
   "cell_type": "code",
   "execution_count": 10,
   "metadata": {
    "collapsed": true,
    "id": "37HCP4vmRcAH"
   },
   "outputs": [
    {
     "data": {
      "text/plain": [
       "25.709851288654264"
      ]
     },
     "execution_count": 10,
     "metadata": {},
     "output_type": "execute_result"
    }
   ],
   "source": [
    "np.median(exp)"
   ]
  },
  {
   "cell_type": "code",
   "execution_count": 11,
   "metadata": {
    "id": "yEHrZJstRcAI"
   },
   "outputs": [],
   "source": [
    "## mode\n",
    "exp=np.random.randint(15,high=50,size=200)"
   ]
  },
  {
   "cell_type": "code",
   "execution_count": 12,
   "metadata": {
    "collapsed": true
   },
   "outputs": [
    {
     "data": {
      "text/plain": [
       "array([38, 27, 18, 16, 43, 16, 29, 22, 46, 17, 16, 25, 23, 19, 40, 40, 40,\n",
       "       19, 42, 44, 16, 38, 28, 43, 29, 29, 15, 17, 35, 34, 35, 39, 45, 28,\n",
       "       49, 31, 29, 30, 47, 19, 25, 35, 17, 27, 40, 31, 33, 28, 40, 29, 22,\n",
       "       19, 37, 20, 27, 17, 35, 35, 31, 44, 16, 15, 25, 18, 33, 33, 36, 25,\n",
       "       43, 47, 23, 31, 20, 41, 36, 45, 46, 21, 35, 17, 30, 45, 42, 24, 30,\n",
       "       32, 30, 29, 31, 28, 35, 37, 40, 33, 35, 46, 44, 30, 27, 48, 34, 25,\n",
       "       49, 41, 43, 36, 18, 48, 39, 27, 25, 23, 29, 37, 28, 15, 46, 38, 21,\n",
       "       46, 20, 46, 34, 35, 45, 17, 43, 18, 36, 41, 17, 21, 19, 40, 22, 29,\n",
       "       43, 38, 47, 45, 29, 38, 31, 36, 15, 39, 17, 41, 39, 21, 20, 45, 39,\n",
       "       23, 30, 22, 29, 41, 48, 19, 16, 48, 47, 36, 41, 46, 32, 21, 38, 47,\n",
       "       37, 34, 15, 19, 44, 28, 27, 25, 17, 30, 17, 27, 24, 46, 15, 29, 37,\n",
       "       18, 35, 39, 33, 40, 20, 38, 27, 30, 45, 39, 36, 30])"
      ]
     },
     "execution_count": 12,
     "metadata": {},
     "output_type": "execute_result"
    }
   ],
   "source": [
    "exp"
   ]
  },
  {
   "cell_type": "code",
   "execution_count": 13,
   "metadata": {
    "id": "cN_EPx7TRcAJ"
   },
   "outputs": [],
   "source": [
    "from scipy import stats"
   ]
  },
  {
   "cell_type": "code",
   "execution_count": 14,
   "metadata": {
    "collapsed": true,
    "id": "QKhRx-TZRcAK",
    "outputId": "ee3e1a9b-0c06-4dc8-920b-45e7b7edd547"
   },
   "outputs": [
    {
     "name": "stderr",
     "output_type": "stream",
     "text": [
      "C:\\Users\\Datamites\\AppData\\Local\\Temp\\ipykernel_19368\\828024960.py:1: FutureWarning: Unlike other reduction functions (e.g. `skew`, `kurtosis`), the default behavior of `mode` typically preserves the axis it acts along. In SciPy 1.11.0, this behavior will change: the default value of `keepdims` will become False, the `axis` over which the statistic is taken will be eliminated, and the value None will no longer be accepted. Set `keepdims` to True or False to avoid this warning.\n",
      "  stats.mode(exp)\n"
     ]
    },
    {
     "data": {
      "text/plain": [
       "ModeResult(mode=array([29]), count=array([11]))"
      ]
     },
     "execution_count": 14,
     "metadata": {},
     "output_type": "execute_result"
    }
   ],
   "source": [
    "stats.mode(exp)"
   ]
  },
  {
   "cell_type": "code",
   "execution_count": 15,
   "metadata": {
    "id": "JN6F2ALKRcAL"
   },
   "outputs": [],
   "source": [
    "## calculating IQR\n",
    "data=[346,47,56,2,36,39,75,79,79,88,89,91,92,93,96,97,101,105,112,115]"
   ]
  },
  {
   "cell_type": "code",
   "execution_count": 16,
   "metadata": {
    "id": "bD3ejF_lRcAL"
   },
   "outputs": [],
   "source": [
    "IQR=stats.iqr(data)"
   ]
  },
  {
   "cell_type": "code",
   "execution_count": 17,
   "metadata": {
    "collapsed": true,
    "id": "TY0nmBODRcAM",
    "outputId": "e553e895-2598-45dc-d06c-9dbd8032cc96"
   },
   "outputs": [
    {
     "data": {
      "text/plain": [
       "27.75"
      ]
     },
     "execution_count": 17,
     "metadata": {},
     "output_type": "execute_result"
    }
   ],
   "source": [
    "IQR"
   ]
  },
  {
   "cell_type": "code",
   "execution_count": 18,
   "metadata": {
    "collapsed": true
   },
   "outputs": [
    {
     "name": "stdout",
     "output_type": "stream",
     "text": [
      "q1 =  70.25\n",
      "q3 =  98.0\n"
     ]
    },
    {
     "data": {
      "text/plain": [
       "27.75"
      ]
     },
     "execution_count": 18,
     "metadata": {},
     "output_type": "execute_result"
    }
   ],
   "source": [
    "q1 = np.percentile(data, 25)\n",
    "print(\"q1 = \",q1)\n",
    "q3 = np.percentile(data, 75)\n",
    "print(\"q3 = \",q3)\n",
    "q3-q1"
   ]
  },
  {
   "cell_type": "code",
   "execution_count": 19,
   "metadata": {
    "collapsed": true,
    "id": "rJdiczFIRcAN",
    "outputId": "00bbe601-4637-4113-c1e3-606a83f8b724"
   },
   "outputs": [
    {
     "data": {
      "text/plain": [
       "4187.79"
      ]
     },
     "execution_count": 19,
     "metadata": {},
     "output_type": "execute_result"
    }
   ],
   "source": [
    "## variance and standard deviation\n",
    "np.var(data)"
   ]
  },
  {
   "cell_type": "code",
   "execution_count": 20,
   "metadata": {
    "collapsed": true,
    "id": "8ar7Fq5lRcAN",
    "outputId": "404a6570-541c-4499-e7db-5a1596b0366b"
   },
   "outputs": [
    {
     "data": {
      "text/plain": [
       "64.71313622441737"
      ]
     },
     "execution_count": 20,
     "metadata": {},
     "output_type": "execute_result"
    }
   ],
   "source": [
    "np.std(data)"
   ]
  },
  {
   "cell_type": "code",
   "execution_count": 21,
   "metadata": {
    "collapsed": true
   },
   "outputs": [
    {
     "data": {
      "text/plain": [
       "91.9"
      ]
     },
     "execution_count": 21,
     "metadata": {},
     "output_type": "execute_result"
    }
   ],
   "source": [
    "np.mean(data)"
   ]
  },
  {
   "cell_type": "code",
   "execution_count": null,
   "metadata": {},
   "outputs": [],
   "source": []
  }
 ],
 "metadata": {
  "colab": {
   "provenance": []
  },
  "kernelspec": {
   "display_name": "Python 3 (ipykernel)",
   "language": "python",
   "name": "python3"
  },
  "language_info": {
   "codemirror_mode": {
    "name": "ipython",
    "version": 3
   },
   "file_extension": ".py",
   "mimetype": "text/x-python",
   "name": "python",
   "nbconvert_exporter": "python",
   "pygments_lexer": "ipython3",
   "version": "3.11.4"
  }
 },
 "nbformat": 4,
 "nbformat_minor": 1
}
