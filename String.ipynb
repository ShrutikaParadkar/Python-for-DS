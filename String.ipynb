{
 "cells": [
  {
   "cell_type": "markdown",
   "id": "448f358c",
   "metadata": {},
   "source": [
    "## INDEXING in python we have two way of indexing +ve and -ve\n",
    "+ve ----> left to right ---> starts from 0\n",
    "\n",
    "-ve ----> right to left ---> starts from -1"
   ]
  },
  {
   "cell_type": "code",
   "execution_count": 1,
   "id": "b73d94e0",
   "metadata": {},
   "outputs": [
    {
     "data": {
      "text/plain": [
       "'U'"
      ]
     },
     "execution_count": 1,
     "metadata": {},
     "output_type": "execute_result"
    }
   ],
   "source": [
    "s= \"SHRUTIKA\"\n",
    "(s[-5])\n",
    "(s[3])"
   ]
  },
  {
   "cell_type": "code",
   "execution_count": 2,
   "id": "97976764",
   "metadata": {},
   "outputs": [
    {
     "name": "stdout",
     "output_type": "stream",
     "text": [
      "Data\n"
     ]
    }
   ],
   "source": [
    "s=\"Datamites\"\n",
    "print(s[0:4:1])"
   ]
  },
  {
   "cell_type": "code",
   "execution_count": 3,
   "id": "32d513e1",
   "metadata": {},
   "outputs": [
    {
     "name": "stdout",
     "output_type": "stream",
     "text": [
      "mite\n",
      "Data\n"
     ]
    }
   ],
   "source": [
    "print(s[4:8:1])\n",
    "print(s[0:4])"
   ]
  },
  {
   "cell_type": "code",
   "execution_count": 4,
   "id": "8d212448",
   "metadata": {},
   "outputs": [
    {
     "name": "stdout",
     "output_type": "stream",
     "text": [
      "Dtmts\n"
     ]
    }
   ],
   "source": [
    "print(s[ : :2])"
   ]
  },
  {
   "cell_type": "markdown",
   "id": "b5dc24f6",
   "metadata": {},
   "source": [
    "### TYPECASTING"
   ]
  },
  {
   "cell_type": "code",
   "execution_count": 5,
   "id": "935486e6",
   "metadata": {},
   "outputs": [
    {
     "name": "stdout",
     "output_type": "stream",
     "text": [
      "enter string: shrutika\n",
      "shrutika\n"
     ]
    }
   ],
   "source": [
    "s=input(\"enter string: \")\n",
    "print(s)"
   ]
  },
  {
   "cell_type": "code",
   "execution_count": 6,
   "id": "4090c080",
   "metadata": {},
   "outputs": [
    {
     "name": "stdout",
     "output_type": "stream",
     "text": [
      "enter no. : 3\n",
      "3\n"
     ]
    }
   ],
   "source": [
    "s=int(input(\"enter no. : \"))\n",
    "print(s)"
   ]
  },
  {
   "cell_type": "code",
   "execution_count": 7,
   "id": "ebdff1ca",
   "metadata": {},
   "outputs": [
    {
     "name": "stdout",
     "output_type": "stream",
     "text": [
      "enter no. : 3.17\n",
      "<class 'float'>\n",
      "3.17\n"
     ]
    }
   ],
   "source": [
    "s=eval(input(\"enter no. : \"))\n",
    "print(type(s))\n",
    "print(s)"
   ]
  },
  {
   "cell_type": "code",
   "execution_count": 10,
   "id": "eb9e28a7",
   "metadata": {},
   "outputs": [
    {
     "name": "stdout",
     "output_type": "stream",
     "text": [
      "enter string: www.google.com\n",
      "google\n"
     ]
    }
   ],
   "source": [
    "#Accept the website name from user and print the domain name \n",
    "s=input(\"enter string: \")\n",
    "print(s[4:-4:1])"
   ]
  },
  {
   "cell_type": "markdown",
   "id": "2f3f73f6",
   "metadata": {},
   "source": [
    "### STRING SLICING"
   ]
  },
  {
   "cell_type": "code",
   "execution_count": 11,
   "id": "18b7ba0e",
   "metadata": {},
   "outputs": [],
   "source": [
    "str='Hello Python'"
   ]
  },
  {
   "cell_type": "code",
   "execution_count": 12,
   "id": "38e4dea8",
   "metadata": {},
   "outputs": [
    {
     "data": {
      "text/plain": [
       "'Hello Python'"
      ]
     },
     "execution_count": 12,
     "metadata": {},
     "output_type": "execute_result"
    }
   ],
   "source": [
    "str"
   ]
  },
  {
   "cell_type": "code",
   "execution_count": 13,
   "id": "65818995",
   "metadata": {},
   "outputs": [],
   "source": [
    "str1='Data is new fuel'"
   ]
  },
  {
   "cell_type": "code",
   "execution_count": 14,
   "id": "91e63fd9",
   "metadata": {},
   "outputs": [
    {
     "data": {
      "text/plain": [
       "' e ul'"
      ]
     },
     "execution_count": 14,
     "metadata": {},
     "output_type": "execute_result"
    }
   ],
   "source": [
    "str1[7::2]"
   ]
  },
  {
   "cell_type": "code",
   "execution_count": 15,
   "id": "dadc5fd9",
   "metadata": {},
   "outputs": [
    {
     "data": {
      "text/plain": [
       "'Data is new fuel'"
      ]
     },
     "execution_count": 15,
     "metadata": {},
     "output_type": "execute_result"
    }
   ],
   "source": [
    "str1[:]"
   ]
  },
  {
   "cell_type": "code",
   "execution_count": 16,
   "id": "73cedf76",
   "metadata": {},
   "outputs": [
    {
     "data": {
      "text/plain": [
       "'Hello '"
      ]
     },
     "execution_count": 16,
     "metadata": {},
     "output_type": "execute_result"
    }
   ],
   "source": [
    "str[:6]"
   ]
  },
  {
   "cell_type": "code",
   "execution_count": 17,
   "id": "e0e40333",
   "metadata": {},
   "outputs": [],
   "source": [
    "s='PYTHON'"
   ]
  },
  {
   "cell_type": "code",
   "execution_count": 18,
   "id": "32480a6b",
   "metadata": {},
   "outputs": [
    {
     "data": {
      "text/plain": [
       "'OHTY'"
      ]
     },
     "execution_count": 18,
     "metadata": {},
     "output_type": "execute_result"
    }
   ],
   "source": [
    "s[-2:-6:-1]"
   ]
  },
  {
   "cell_type": "markdown",
   "id": "bdf9ab0f",
   "metadata": {},
   "source": [
    "### REPLACE AND DELETE FUNCTION"
   ]
  },
  {
   "cell_type": "code",
   "execution_count": 19,
   "id": "b29805e6",
   "metadata": {},
   "outputs": [],
   "source": [
    "str='hello python'"
   ]
  },
  {
   "cell_type": "code",
   "execution_count": 20,
   "id": "bbfa238d",
   "metadata": {},
   "outputs": [
    {
     "data": {
      "text/plain": [
       "'he'"
      ]
     },
     "execution_count": 20,
     "metadata": {},
     "output_type": "execute_result"
    }
   ],
   "source": [
    "str[0:2]"
   ]
  },
  {
   "cell_type": "code",
   "execution_count": 21,
   "id": "e15310e1",
   "metadata": {},
   "outputs": [],
   "source": [
    "#replace function is use to replace a character in our string , here we replace \"he\" to \"hi\"\n",
    "str1=str.replace('he','hi')"
   ]
  },
  {
   "cell_type": "code",
   "execution_count": 22,
   "id": "e752be82",
   "metadata": {},
   "outputs": [
    {
     "data": {
      "text/plain": [
       "'hello python'"
      ]
     },
     "execution_count": 22,
     "metadata": {},
     "output_type": "execute_result"
    }
   ],
   "source": [
    "str"
   ]
  },
  {
   "cell_type": "code",
   "execution_count": 23,
   "id": "9b9029d1",
   "metadata": {},
   "outputs": [
    {
     "data": {
      "text/plain": [
       "'hillo python'"
      ]
     },
     "execution_count": 23,
     "metadata": {},
     "output_type": "execute_result"
    }
   ],
   "source": [
    "str1"
   ]
  },
  {
   "cell_type": "code",
   "execution_count": 24,
   "id": "1c32e93d",
   "metadata": {},
   "outputs": [],
   "source": [
    "del str"
   ]
  },
  {
   "cell_type": "code",
   "execution_count": 25,
   "id": "1d65d5f7",
   "metadata": {},
   "outputs": [
    {
     "data": {
      "text/plain": [
       "str"
      ]
     },
     "execution_count": 25,
     "metadata": {},
     "output_type": "execute_result"
    }
   ],
   "source": [
    "str"
   ]
  },
  {
   "cell_type": "markdown",
   "id": "68135572",
   "metadata": {},
   "source": [
    "### STRING CONCATENATION"
   ]
  },
  {
   "cell_type": "code",
   "execution_count": 26,
   "id": "6bf094df",
   "metadata": {},
   "outputs": [
    {
     "name": "stdout",
     "output_type": "stream",
     "text": [
      "ShrutikaParadkar\n"
     ]
    }
   ],
   "source": [
    "s1='Shrutika'\n",
    "s2='Paradkar'\n",
    "s3= s1+s2\n",
    "print(s3)"
   ]
  },
  {
   "cell_type": "code",
   "execution_count": 27,
   "id": "d388965f",
   "metadata": {},
   "outputs": [
    {
     "name": "stdout",
     "output_type": "stream",
     "text": [
      "Shrutika Paradkar\n"
     ]
    }
   ],
   "source": [
    "s1='Shrutika'\n",
    "s2='Paradkar'\n",
    "s4=' '\n",
    "s3= s1+s4+s2\n",
    "print(s3)"
   ]
  },
  {
   "cell_type": "markdown",
   "id": "2fc727e9",
   "metadata": {},
   "source": [
    "### STRING MEMBERSHIP\n",
    "📌check whether the word is present in string or not"
   ]
  },
  {
   "cell_type": "code",
   "execution_count": 28,
   "id": "46e2b6bd",
   "metadata": {},
   "outputs": [],
   "source": [
    "str=\"Hello Everyone\""
   ]
  },
  {
   "cell_type": "code",
   "execution_count": 29,
   "id": "c82b5798",
   "metadata": {},
   "outputs": [
    {
     "data": {
      "text/plain": [
       "True"
      ]
     },
     "execution_count": 29,
     "metadata": {},
     "output_type": "execute_result"
    }
   ],
   "source": [
    "\"Hello\" in str"
   ]
  },
  {
   "cell_type": "code",
   "execution_count": 30,
   "id": "431d43cf",
   "metadata": {},
   "outputs": [
    {
     "data": {
      "text/plain": [
       "False"
      ]
     },
     "execution_count": 30,
     "metadata": {},
     "output_type": "execute_result"
    }
   ],
   "source": [
    "\"One\" in str"
   ]
  },
  {
   "cell_type": "code",
   "execution_count": 31,
   "id": "acef3609",
   "metadata": {},
   "outputs": [
    {
     "data": {
      "text/plain": [
       "True"
      ]
     },
     "execution_count": 31,
     "metadata": {},
     "output_type": "execute_result"
    }
   ],
   "source": [
    "\"one\" in str"
   ]
  },
  {
   "cell_type": "markdown",
   "id": "f574c99b",
   "metadata": {},
   "source": [
    "### STRING PARATIONING"
   ]
  },
  {
   "cell_type": "code",
   "execution_count": 32,
   "id": "0f493983",
   "metadata": {},
   "outputs": [],
   "source": [
    "str='Natural language processing with python and R and java'"
   ]
  },
  {
   "cell_type": "code",
   "execution_count": 33,
   "id": "e70f7761",
   "metadata": {},
   "outputs": [
    {
     "data": {
      "text/plain": [
       "('Natural language processing ', 'with', ' python and R and java')"
      ]
     },
     "execution_count": 33,
     "metadata": {},
     "output_type": "execute_result"
    }
   ],
   "source": [
    "L= str.partition('with')\n",
    "L"
   ]
  },
  {
   "cell_type": "code",
   "execution_count": 34,
   "id": "6f2cfabf",
   "metadata": {},
   "outputs": [
    {
     "data": {
      "text/plain": [
       "('Natural language processing with python ', 'and', ' R and java')"
      ]
     },
     "execution_count": 34,
     "metadata": {},
     "output_type": "execute_result"
    }
   ],
   "source": [
    "L= str.partition('and')\n",
    "L"
   ]
  },
  {
   "cell_type": "markdown",
   "id": "103d744c",
   "metadata": {},
   "source": [
    "### STRING count() & strip() FUNCTION"
   ]
  },
  {
   "cell_type": "code",
   "execution_count": 35,
   "id": "c75220fe",
   "metadata": {},
   "outputs": [],
   "source": [
    "str=\"   Hello Everyone   \""
   ]
  },
  {
   "cell_type": "code",
   "execution_count": 36,
   "id": "2c23ff29",
   "metadata": {},
   "outputs": [
    {
     "data": {
      "text/plain": [
       "'   Hello Everyone   '"
      ]
     },
     "execution_count": 36,
     "metadata": {},
     "output_type": "execute_result"
    }
   ],
   "source": [
    "str"
   ]
  },
  {
   "cell_type": "code",
   "execution_count": 37,
   "id": "fd2a648e",
   "metadata": {},
   "outputs": [
    {
     "data": {
      "text/plain": [
       "3"
      ]
     },
     "execution_count": 37,
     "metadata": {},
     "output_type": "execute_result"
    }
   ],
   "source": [
    "str.count('e')"
   ]
  },
  {
   "cell_type": "code",
   "execution_count": 38,
   "id": "cad7f301",
   "metadata": {},
   "outputs": [
    {
     "data": {
      "text/plain": [
       "1"
      ]
     },
     "execution_count": 38,
     "metadata": {},
     "output_type": "execute_result"
    }
   ],
   "source": [
    "str.count('E')\n"
   ]
  },
  {
   "cell_type": "code",
   "execution_count": 39,
   "id": "3f8877f3",
   "metadata": {},
   "outputs": [
    {
     "data": {
      "text/plain": [
       "'Hello Everyone'"
      ]
     },
     "execution_count": 39,
     "metadata": {},
     "output_type": "execute_result"
    }
   ],
   "source": [
    "str.strip()"
   ]
  },
  {
   "cell_type": "code",
   "execution_count": 40,
   "id": "2923ef2d",
   "metadata": {},
   "outputs": [
    {
     "data": {
      "text/plain": [
       "'   Hello Everyone'"
      ]
     },
     "execution_count": 40,
     "metadata": {},
     "output_type": "execute_result"
    }
   ],
   "source": [
    "str.rstrip()"
   ]
  },
  {
   "cell_type": "code",
   "execution_count": 41,
   "id": "3b1c0abe",
   "metadata": {},
   "outputs": [
    {
     "data": {
      "text/plain": [
       "'Hello Everyone   '"
      ]
     },
     "execution_count": 41,
     "metadata": {},
     "output_type": "execute_result"
    }
   ],
   "source": [
    "str.lstrip()"
   ]
  },
  {
   "cell_type": "code",
   "execution_count": 42,
   "id": "49f9a53b",
   "metadata": {},
   "outputs": [],
   "source": [
    "str1='*****Hello Everyone*****'"
   ]
  },
  {
   "cell_type": "code",
   "execution_count": 43,
   "id": "79b00605",
   "metadata": {},
   "outputs": [
    {
     "data": {
      "text/plain": [
       "'Hello Everyone'"
      ]
     },
     "execution_count": 43,
     "metadata": {},
     "output_type": "execute_result"
    }
   ],
   "source": [
    "str1.strip('*')"
   ]
  },
  {
   "cell_type": "markdown",
   "id": "5dcabaae",
   "metadata": {},
   "source": [
    "### LOWER(), UPPER(),STARTSWITH(), ENDSWITH() FUNCTION"
   ]
  },
  {
   "cell_type": "code",
   "execution_count": 44,
   "id": "2871a19a",
   "metadata": {},
   "outputs": [],
   "source": [
    "str='Hello Python'"
   ]
  },
  {
   "cell_type": "code",
   "execution_count": 45,
   "id": "fbcb061a",
   "metadata": {},
   "outputs": [
    {
     "data": {
      "text/plain": [
       "'hello python'"
      ]
     },
     "execution_count": 45,
     "metadata": {},
     "output_type": "execute_result"
    }
   ],
   "source": [
    "str.lower()"
   ]
  },
  {
   "cell_type": "code",
   "execution_count": 46,
   "id": "4a11f505",
   "metadata": {},
   "outputs": [
    {
     "data": {
      "text/plain": [
       "'HELLO PYTHON'"
      ]
     },
     "execution_count": 46,
     "metadata": {},
     "output_type": "execute_result"
    }
   ],
   "source": [
    "str.upper()"
   ]
  },
  {
   "cell_type": "code",
   "execution_count": 47,
   "id": "7f8d4d08",
   "metadata": {},
   "outputs": [
    {
     "data": {
      "text/plain": [
       "True"
      ]
     },
     "execution_count": 47,
     "metadata": {},
     "output_type": "execute_result"
    }
   ],
   "source": [
    "str.startswith('He')"
   ]
  },
  {
   "cell_type": "code",
   "execution_count": 48,
   "id": "24878a2e",
   "metadata": {},
   "outputs": [
    {
     "data": {
      "text/plain": [
       "True"
      ]
     },
     "execution_count": 48,
     "metadata": {},
     "output_type": "execute_result"
    }
   ],
   "source": [
    "str.endswith('on')"
   ]
  },
  {
   "cell_type": "code",
   "execution_count": 49,
   "id": "6198f367",
   "metadata": {},
   "outputs": [
    {
     "data": {
      "text/plain": [
       "False"
      ]
     },
     "execution_count": 49,
     "metadata": {},
     "output_type": "execute_result"
    }
   ],
   "source": [
    "str.endswith('On')"
   ]
  },
  {
   "cell_type": "markdown",
   "id": "d7a4761b",
   "metadata": {},
   "source": [
    "### SPLIT() FUNCTION"
   ]
  },
  {
   "cell_type": "code",
   "execution_count": 50,
   "id": "e4c63fd9",
   "metadata": {},
   "outputs": [],
   "source": [
    "str='Hello Everyone How are you'"
   ]
  },
  {
   "cell_type": "code",
   "execution_count": 51,
   "id": "6462b112",
   "metadata": {},
   "outputs": [
    {
     "data": {
      "text/plain": [
       "['Hello', 'Everyone', 'How', 'are', 'you']"
      ]
     },
     "execution_count": 51,
     "metadata": {},
     "output_type": "execute_result"
    }
   ],
   "source": [
    "str.split()"
   ]
  },
  {
   "cell_type": "code",
   "execution_count": 52,
   "id": "bd87ec5f",
   "metadata": {},
   "outputs": [
    {
     "data": {
      "text/plain": [
       "['H', 'llo Ev', 'ryon', ' How ar', ' you']"
      ]
     },
     "execution_count": 52,
     "metadata": {},
     "output_type": "execute_result"
    }
   ],
   "source": [
    "str.split('e')"
   ]
  },
  {
   "cell_type": "code",
   "execution_count": 53,
   "id": "95514ffc",
   "metadata": {},
   "outputs": [
    {
     "name": "stdout",
     "output_type": "stream",
     "text": [
      "Hello from Datamites , Kharadi with id 1\n"
     ]
    }
   ],
   "source": [
    "id=1\n",
    "name=\"Datamites\"\n",
    "place=\"Kharadi\"\n",
    "#Hello from Datamites, Kharadi with id 1\n",
    "print(\"Hello from\",name,\",\",place,\"with id\",id)"
   ]
  },
  {
   "cell_type": "code",
   "execution_count": 54,
   "id": "da4e5649",
   "metadata": {},
   "outputs": [
    {
     "name": "stdout",
     "output_type": "stream",
     "text": [
      "Hello from Datamites,Kharadi with 1\n"
     ]
    }
   ],
   "source": [
    "print(f\"Hello from {name},{place} with {id}\")"
   ]
  },
  {
   "cell_type": "code",
   "execution_count": 55,
   "id": "2861ca37",
   "metadata": {},
   "outputs": [
    {
     "name": "stdout",
     "output_type": "stream",
     "text": [
      "Hello from Datamites,Kharadi with 1\n"
     ]
    }
   ],
   "source": [
    "print(\"Hello from {0},{1} with {2}\" .format(name,place,id))"
   ]
  },
  {
   "cell_type": "code",
   "execution_count": null,
   "id": "017510ea",
   "metadata": {},
   "outputs": [],
   "source": []
  }
 ],
 "metadata": {
  "kernelspec": {
   "display_name": "Python 3 (ipykernel)",
   "language": "python",
   "name": "python3"
  },
  "language_info": {
   "codemirror_mode": {
    "name": "ipython",
    "version": 3
   },
   "file_extension": ".py",
   "mimetype": "text/x-python",
   "name": "python",
   "nbconvert_exporter": "python",
   "pygments_lexer": "ipython3",
   "version": "3.11.4"
  }
 },
 "nbformat": 4,
 "nbformat_minor": 5
}
