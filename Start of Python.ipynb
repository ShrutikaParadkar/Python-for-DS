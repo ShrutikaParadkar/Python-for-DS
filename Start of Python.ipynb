{
 "cells": [
  {
   "cell_type": "code",
   "execution_count": 1,
   "id": "f18b1bc9",
   "metadata": {},
   "outputs": [
    {
     "name": "stdout",
     "output_type": "stream",
     "text": [
      "HELLO, myself Shrutika Paradkar. I done my graduation in Computer Science Engineering from Rajiv Gandhi College of Engineering & Research, Nagpur. My hobbies are Listening music, Drawing, Painting and playing badminton. My strengths are fast learner, adaptable, and a team player.\n"
     ]
    }
   ],
   "source": [
    "print(\"HELLO, myself Shrutika Paradkar. I done my graduation in Computer Science Engineering from Rajiv Gandhi College of Engineering & Research, Nagpur. My hobbies are Listening music, Drawing, Painting and playing badminton. My strengths are fast learner, adaptable, and a team player.\")"
   ]
  },
  {
   "cell_type": "markdown",
   "id": "d18dfe46",
   "metadata": {},
   "source": [
    "# KEYWORDS"
   ]
  },
  {
   "cell_type": "code",
   "execution_count": 2,
   "id": "28010990",
   "metadata": {},
   "outputs": [],
   "source": [
    "import keyword"
   ]
  },
  {
   "cell_type": "code",
   "execution_count": 3,
   "id": "d76e08b6",
   "metadata": {},
   "outputs": [
    {
     "name": "stdout",
     "output_type": "stream",
     "text": [
      "['False', 'None', 'True', 'and', 'as', 'assert', 'async', 'await', 'break', 'class', 'continue', 'def', 'del', 'elif', 'else', 'except', 'finally', 'for', 'from', 'global', 'if', 'import', 'in', 'is', 'lambda', 'nonlocal', 'not', 'or', 'pass', 'raise', 'return', 'try', 'while', 'with', 'yield']\n"
     ]
    }
   ],
   "source": [
    "print(keyword.kwlist)"
   ]
  },
  {
   "cell_type": "code",
   "execution_count": 4,
   "id": "60cced49",
   "metadata": {},
   "outputs": [
    {
     "data": {
      "text/plain": [
       "35"
      ]
     },
     "execution_count": 4,
     "metadata": {},
     "output_type": "execute_result"
    }
   ],
   "source": [
    "len(keyword.kwlist)"
   ]
  },
  {
   "cell_type": "markdown",
   "id": "a68d83da",
   "metadata": {},
   "source": [
    "# COMMENTS"
   ]
  },
  {
   "cell_type": "code",
   "execution_count": 5,
   "id": "72dca8c9",
   "metadata": {},
   "outputs": [
    {
     "name": "stdout",
     "output_type": "stream",
     "text": [
      "Shrutika\n",
      "Paradkar\n"
     ]
    }
   ],
   "source": [
    "#single line comment\n",
    "\n",
    "print(\"Shrutika\")\n",
    "#print(\"Dinesh\")\n",
    "print(\"Paradkar\")"
   ]
  },
  {
   "cell_type": "code",
   "execution_count": 6,
   "id": "018bf009",
   "metadata": {},
   "outputs": [
    {
     "name": "stdout",
     "output_type": "stream",
     "text": [
      "Shrutika\n",
      "Dinesh\n",
      "Paradkar\n",
      "abc\n"
     ]
    }
   ],
   "source": [
    "#multi line comment\n",
    "print(\"Shrutika\")\n",
    "print(\"Dinesh\")\n",
    "print(\"Paradkar\")\n",
    "'''print(\"Kavita\")\n",
    "print(\"ishwar\")\n",
    "print(\"XYZ\")'''\n",
    "print(\"abc\")"
   ]
  },
  {
   "cell_type": "markdown",
   "id": "3a8b4f5d",
   "metadata": {},
   "source": [
    "# STATEMENTS\n",
    "Instructions that a python interpretercan execute"
   ]
  },
  {
   "cell_type": "code",
   "execution_count": 7,
   "id": "c8cdeaf7",
   "metadata": {},
   "outputs": [
    {
     "data": {
      "text/plain": [
       "['a', 'b', 'c']"
      ]
     },
     "execution_count": 7,
     "metadata": {},
     "output_type": "execute_result"
    }
   ],
   "source": [
    "#Single line Statement\n",
    "p2= ['a', 'b', 'c']\n",
    "p2"
   ]
  },
  {
   "cell_type": "code",
   "execution_count": 8,
   "id": "f736058d",
   "metadata": {},
   "outputs": [
    {
     "data": {
      "text/plain": [
       "260"
      ]
     },
     "execution_count": 8,
     "metadata": {},
     "output_type": "execute_result"
    }
   ],
   "source": [
    "#multi line statement\n",
    "p1= 20+30+40 \\\n",
    "+50+60\\\n",
    "+60\n",
    "p1\n"
   ]
  },
  {
   "cell_type": "markdown",
   "id": "f9d173c3",
   "metadata": {},
   "source": [
    "# VARIABLES & PRINT"
   ]
  },
  {
   "cell_type": "code",
   "execution_count": 9,
   "id": "83d5bbe3",
   "metadata": {},
   "outputs": [],
   "source": [
    "k=30"
   ]
  },
  {
   "cell_type": "code",
   "execution_count": 10,
   "id": "cdc357a2",
   "metadata": {},
   "outputs": [
    {
     "data": {
      "text/plain": [
       "30"
      ]
     },
     "execution_count": 10,
     "metadata": {},
     "output_type": "execute_result"
    }
   ],
   "source": [
    "k"
   ]
  },
  {
   "cell_type": "code",
   "execution_count": 11,
   "id": "0051ff3b",
   "metadata": {},
   "outputs": [
    {
     "name": "stdout",
     "output_type": "stream",
     "text": [
      "30\n"
     ]
    }
   ],
   "source": [
    "print(k)"
   ]
  },
  {
   "cell_type": "code",
   "execution_count": 12,
   "id": "fdac2ea3",
   "metadata": {},
   "outputs": [
    {
     "name": "stdout",
     "output_type": "stream",
     "text": [
      "this is print in single quote\n"
     ]
    }
   ],
   "source": [
    "print('this is print in single quote')"
   ]
  },
  {
   "cell_type": "code",
   "execution_count": 13,
   "id": "fad2a8b7",
   "metadata": {},
   "outputs": [
    {
     "name": "stdout",
     "output_type": "stream",
     "text": [
      " print in double quote\n"
     ]
    }
   ],
   "source": [
    "print(\" print in double quote\")"
   ]
  },
  {
   "cell_type": "code",
   "execution_count": 14,
   "id": "f175665a",
   "metadata": {},
   "outputs": [
    {
     "name": "stdout",
     "output_type": "stream",
     "text": [
      " print in triple quote\n"
     ]
    }
   ],
   "source": [
    "print(\"\"\" print in triple quote\"\"\")"
   ]
  },
  {
   "cell_type": "code",
   "execution_count": 15,
   "id": "946f4a79",
   "metadata": {},
   "outputs": [
    {
     "name": "stdout",
     "output_type": "stream",
     "text": [
      "78.5\n"
     ]
    }
   ],
   "source": [
    "# area of square\n",
    "r=5\n",
    "area = 3.14 * r *r\n",
    "print(area)"
   ]
  },
  {
   "cell_type": "markdown",
   "id": "d5b06a0d",
   "metadata": {},
   "source": [
    "### Enter value manually"
   ]
  },
  {
   "cell_type": "code",
   "execution_count": 16,
   "id": "95a6ac2a",
   "metadata": {},
   "outputs": [
    {
     "name": "stdout",
     "output_type": "stream",
     "text": [
      "please enter rad : 5\n",
      "78.5\n"
     ]
    }
   ],
   "source": [
    "r = int(input(\"please enter rad : \"))\n",
    "area = 3.14 * r *r\n",
    "print(area)"
   ]
  },
  {
   "cell_type": "code",
   "execution_count": 17,
   "id": "cb860530",
   "metadata": {},
   "outputs": [
    {
     "name": "stdout",
     "output_type": "stream",
     "text": [
      "please enter your name:Shrutika\n",
      "hello from Shrutika\n"
     ]
    }
   ],
   "source": [
    "name = input(\"please enter your name:\")\n",
    "print(\"hello from\", name)"
   ]
  },
  {
   "cell_type": "markdown",
   "id": "c91dd05f",
   "metadata": {},
   "source": [
    "###### 1) accept two numbers from user & calculate the add, sub, multi & division"
   ]
  },
  {
   "cell_type": "code",
   "execution_count": 18,
   "id": "0f000964",
   "metadata": {},
   "outputs": [
    {
     "name": "stdout",
     "output_type": "stream",
     "text": [
      "please enter num1 : 20\n",
      "please enter num2 : 46\n",
      "66\n",
      "-26\n",
      "920\n",
      "0.43478260869565216\n"
     ]
    }
   ],
   "source": [
    "a = int(input(\"please enter num1 : \"))\n",
    "b = int(input(\"please enter num2 : \"))\n",
    "c = a+b\n",
    "d = a-b\n",
    "e = a*b\n",
    "f = a/b\n",
    "print(c)\n",
    "print(d)\n",
    "print(e)\n",
    "print(f)"
   ]
  },
  {
   "cell_type": "markdown",
   "id": "aee3961f",
   "metadata": {},
   "source": [
    "###### 2) Accept two angles of triangle from user and calculate the 3rd angle"
   ]
  },
  {
   "cell_type": "code",
   "execution_count": 19,
   "id": "da95b4be",
   "metadata": {},
   "outputs": [
    {
     "name": "stdout",
     "output_type": "stream",
     "text": [
      "Enter Angle 1 :- 60\n",
      "Enter Angle 2 :- 30\n",
      "Third angle of the triangle :-->  90\n"
     ]
    }
   ],
   "source": [
    "Angle1 = int(input(\"Enter Angle 1 :- \"))\n",
    "Angle2 = int(input(\"Enter Angle 2 :- \"))\n",
    "Angle3 = 180 - (Angle1 + Angle2)               # sum of all the angles is 180\n",
    "print(\"Third angle of the triangle :--> \", Angle3)"
   ]
  },
  {
   "cell_type": "markdown",
   "id": "1d24ef3d",
   "metadata": {},
   "source": [
    "###### 3) Accept your birth year & print your age in years"
   ]
  },
  {
   "cell_type": "code",
   "execution_count": 21,
   "id": "5a8b3ddb",
   "metadata": {},
   "outputs": [
    {
     "name": "stdout",
     "output_type": "stream",
     "text": [
      "please enter your birth year : 2001\n",
      "22\n"
     ]
    }
   ],
   "source": [
    "a = int(input(\"please enter your birth year : \"))\n",
    "b = (2023 - a)\n",
    "print(b)"
   ]
  },
  {
   "cell_type": "markdown",
   "id": "86dfc8fa",
   "metadata": {},
   "source": [
    "## FUNCTIONAL DATATYPES"
   ]
  },
  {
   "cell_type": "code",
   "execution_count": 22,
   "id": "bee2b95a",
   "metadata": {},
   "outputs": [
    {
     "data": {
      "text/plain": [
       "int"
      ]
     },
     "execution_count": 22,
     "metadata": {},
     "output_type": "execute_result"
    }
   ],
   "source": [
    "a = 10\n",
    "type(a)"
   ]
  },
  {
   "cell_type": "code",
   "execution_count": 23,
   "id": "cdf92800",
   "metadata": {},
   "outputs": [
    {
     "data": {
      "text/plain": [
       "float"
      ]
     },
     "execution_count": 23,
     "metadata": {},
     "output_type": "execute_result"
    }
   ],
   "source": [
    "b=3.17\n",
    "type(b)"
   ]
  },
  {
   "cell_type": "code",
   "execution_count": 24,
   "id": "13ef5c2c",
   "metadata": {},
   "outputs": [
    {
     "data": {
      "text/plain": [
       "bool"
      ]
     },
     "execution_count": 24,
     "metadata": {},
     "output_type": "execute_result"
    }
   ],
   "source": [
    "c=True\n",
    "type(c)"
   ]
  },
  {
   "cell_type": "code",
   "execution_count": 25,
   "id": "4f3ae1ae",
   "metadata": {},
   "outputs": [
    {
     "data": {
      "text/plain": [
       "complex"
      ]
     },
     "execution_count": 25,
     "metadata": {},
     "output_type": "execute_result"
    }
   ],
   "source": [
    "d=3+17j\n",
    "type(d)"
   ]
  },
  {
   "cell_type": "code",
   "execution_count": 26,
   "id": "f8950d2e",
   "metadata": {},
   "outputs": [
    {
     "data": {
      "text/plain": [
       "str"
      ]
     },
     "execution_count": 26,
     "metadata": {},
     "output_type": "execute_result"
    }
   ],
   "source": [
    "e='datamites'\n",
    "type(e)"
   ]
  },
  {
   "cell_type": "code",
   "execution_count": 27,
   "id": "1810dbd8",
   "metadata": {},
   "outputs": [
    {
     "data": {
      "text/plain": [
       "complex"
      ]
     },
     "execution_count": 27,
     "metadata": {},
     "output_type": "execute_result"
    }
   ],
   "source": [
    "f=3.5+6j\n",
    "type(f)"
   ]
  },
  {
   "cell_type": "code",
   "execution_count": 29,
   "id": "c8792de3",
   "metadata": {
    "scrolled": true
   },
   "outputs": [
    {
     "data": {
      "text/plain": [
       "complex"
      ]
     },
     "execution_count": 29,
     "metadata": {},
     "output_type": "execute_result"
    }
   ],
   "source": [
    "f=True+6j\n",
    "type(f)"
   ]
  },
  {
   "cell_type": "code",
   "execution_count": 30,
   "id": "07a3c1e1",
   "metadata": {},
   "outputs": [
    {
     "name": "stdout",
     "output_type": "stream",
     "text": [
      "10 3.17 Shrutika\n"
     ]
    }
   ],
   "source": [
    "#multiple assignment\n",
    "intvar, floatvar, strvar = 10,3.17,'Shrutika'\n",
    "#using comma separater variable\n",
    "print(intvar,floatvar,strvar)"
   ]
  },
  {
   "cell_type": "markdown",
   "id": "f382c07a",
   "metadata": {},
   "source": [
    "## Assignment Chaning"
   ]
  },
  {
   "cell_type": "code",
   "execution_count": 31,
   "id": "23644753",
   "metadata": {},
   "outputs": [
    {
     "name": "stdout",
     "output_type": "stream",
     "text": [
      "10 10 10 10\n"
     ]
    }
   ],
   "source": [
    "#assignment chaining\n",
    "p1 = p2 = p3 = p4 = 10\n",
    "#all variables pointing to the same value\n",
    "print(p1,p2,p3,p4)"
   ]
  },
  {
   "cell_type": "code",
   "execution_count": 32,
   "id": "182eb243",
   "metadata": {},
   "outputs": [],
   "source": [
    "import sys"
   ]
  },
  {
   "cell_type": "code",
   "execution_count": 33,
   "id": "fbafd4e9",
   "metadata": {},
   "outputs": [
    {
     "name": "stdout",
     "output_type": "stream",
     "text": [
      "77.52\n",
      "<class 'float'>\n",
      "24\n",
      "77.52 is float : True\n"
     ]
    }
   ],
   "source": [
    "val2 = 77.52 #float datatype\n",
    "print(val2)\n",
    "print(type(val2))  #type of object\n",
    "print(sys.getsizeof(val2))  #size of float object in bytes\n",
    "print(val2, \"is float :\", isinstance(val2,float))"
   ]
  },
  {
   "cell_type": "code",
   "execution_count": 34,
   "id": "008469bb",
   "metadata": {},
   "outputs": [
    {
     "name": "stdout",
     "output_type": "stream",
     "text": [
      "(3+17j)\n",
      "<class 'complex'>\n",
      "32\n",
      "(3+17j) is complex? True\n"
     ]
    }
   ],
   "source": [
    "val3 = 3+17j\n",
    "print(val3)\n",
    "print(type(val3))\n",
    "print(sys.getsizeof(val3))\n",
    "print(val3,\"is complex?\", isinstance(val3, complex))"
   ]
  },
  {
   "cell_type": "code",
   "execution_count": 35,
   "id": "2eb15064",
   "metadata": {},
   "outputs": [
    {
     "name": "stdout",
     "output_type": "stream",
     "text": [
      "abcdegf\n",
      "hello myself 'Shrutika'\n",
      "Hello myself \"shrutika\" im from 'Nagpur'\n"
     ]
    }
   ],
   "source": [
    "#why string using double and tripe quotes\n",
    "str1 ='abcdegf'\n",
    "str2 =\"hello myself 'Shrutika'\"\n",
    "str3 =\"\"\"Hello myself \"shrutika\" im from 'Nagpur'\"\"\"\n",
    "print(str1)\n",
    "print(str2)\n",
    "print(str3)\n"
   ]
  },
  {
   "cell_type": "code",
   "execution_count": null,
   "id": "a6c67818",
   "metadata": {},
   "outputs": [],
   "source": []
  }
 ],
 "metadata": {
  "kernelspec": {
   "display_name": "Python 3 (ipykernel)",
   "language": "python",
   "name": "python3"
  },
  "language_info": {
   "codemirror_mode": {
    "name": "ipython",
    "version": 3
   },
   "file_extension": ".py",
   "mimetype": "text/x-python",
   "name": "python",
   "nbconvert_exporter": "python",
   "pygments_lexer": "ipython3",
   "version": "3.11.4"
  }
 },
 "nbformat": 4,
 "nbformat_minor": 5
}
