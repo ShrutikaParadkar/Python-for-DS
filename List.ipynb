{
 "cells": [
  {
   "cell_type": "code",
   "execution_count": 1,
   "id": "ea417020",
   "metadata": {},
   "outputs": [],
   "source": [
    "#list creation\n",
    "l1=[]    #empty list"
   ]
  },
  {
   "cell_type": "code",
   "execution_count": 2,
   "id": "21ac0056",
   "metadata": {},
   "outputs": [
    {
     "data": {
      "text/plain": [
       "list"
      ]
     },
     "execution_count": 2,
     "metadata": {},
     "output_type": "execute_result"
    }
   ],
   "source": [
    "type(l1)"
   ]
  },
  {
   "cell_type": "code",
   "execution_count": 3,
   "id": "a001268f",
   "metadata": {},
   "outputs": [
    {
     "data": {
      "text/plain": [
       "['d', 'a', 't', 'a', 'm', 'i', 't', 'e', 's']"
      ]
     },
     "execution_count": 3,
     "metadata": {},
     "output_type": "execute_result"
    }
   ],
   "source": [
    "s='datamites'\n",
    "l2=list(s)\n",
    "l2"
   ]
  },
  {
   "cell_type": "code",
   "execution_count": 4,
   "id": "3edb2c50",
   "metadata": {},
   "outputs": [
    {
     "data": {
      "text/plain": [
       "list"
      ]
     },
     "execution_count": 4,
     "metadata": {},
     "output_type": "execute_result"
    }
   ],
   "source": [
    "type(l2)"
   ]
  },
  {
   "cell_type": "code",
   "execution_count": 5,
   "id": "12a07c18",
   "metadata": {},
   "outputs": [
    {
     "data": {
      "text/plain": [
       "[1, 'datamites', 'Shrutika', True, (2+3j), 99.32]"
      ]
     },
     "execution_count": 5,
     "metadata": {},
     "output_type": "execute_result"
    }
   ],
   "source": [
    "l3=[1,'datamites','Shrutika',True, 2+3j, 99.32]\n",
    "l3"
   ]
  },
  {
   "cell_type": "code",
   "execution_count": 6,
   "id": "1969f4e7",
   "metadata": {},
   "outputs": [
    {
     "data": {
      "text/plain": [
       "['data', 25, [50, 100], [150, 90]]"
      ]
     },
     "execution_count": 6,
     "metadata": {},
     "output_type": "execute_result"
    }
   ],
   "source": [
    "#Nested list\n",
    "l5=['data',25, [50,100],[150,90]]\n",
    "l5"
   ]
  },
  {
   "cell_type": "code",
   "execution_count": 7,
   "id": "14deebdc",
   "metadata": {},
   "outputs": [
    {
     "data": {
      "text/plain": [
       "4"
      ]
     },
     "execution_count": 7,
     "metadata": {},
     "output_type": "execute_result"
    }
   ],
   "source": [
    "len(l5)      #length always counts from 1 and index from 0\n"
   ]
  },
  {
   "cell_type": "code",
   "execution_count": 8,
   "id": "c010dd69",
   "metadata": {},
   "outputs": [
    {
     "data": {
      "text/plain": [
       "150"
      ]
     },
     "execution_count": 8,
     "metadata": {},
     "output_type": "execute_result"
    }
   ],
   "source": [
    "l5[3][0]"
   ]
  },
  {
   "cell_type": "markdown",
   "id": "b93293da",
   "metadata": {},
   "source": [
    "#### List Indexing & Slicing"
   ]
  },
  {
   "cell_type": "code",
   "execution_count": 11,
   "id": "8c4764e1",
   "metadata": {},
   "outputs": [],
   "source": [
    "mylist = ['one','two','three','four','five','six','seven','eight']"
   ]
  },
  {
   "cell_type": "code",
   "execution_count": 12,
   "id": "0fc0d0d4",
   "metadata": {},
   "outputs": [
    {
     "data": {
      "text/plain": [
       "'seven'"
      ]
     },
     "execution_count": 12,
     "metadata": {},
     "output_type": "execute_result"
    }
   ],
   "source": [
    "mylist[6]"
   ]
  },
  {
   "cell_type": "code",
   "execution_count": 13,
   "id": "98684532",
   "metadata": {},
   "outputs": [
    {
     "data": {
      "text/plain": [
       "['one', 'two', 'three']"
      ]
     },
     "execution_count": 13,
     "metadata": {},
     "output_type": "execute_result"
    }
   ],
   "source": [
    "mylist[0:3]"
   ]
  },
  {
   "cell_type": "code",
   "execution_count": 14,
   "id": "30ce78dc",
   "metadata": {},
   "outputs": [
    {
     "data": {
      "text/plain": [
       "['one', 'four', 'seven']"
      ]
     },
     "execution_count": 14,
     "metadata": {},
     "output_type": "execute_result"
    }
   ],
   "source": [
    "mylist[0:7:3]"
   ]
  },
  {
   "cell_type": "code",
   "execution_count": 15,
   "id": "01cb89fc",
   "metadata": {},
   "outputs": [
    {
     "data": {
      "text/plain": [
       "['one', 'three', 'five', 'seven']"
      ]
     },
     "execution_count": 15,
     "metadata": {},
     "output_type": "execute_result"
    }
   ],
   "source": [
    "mylist[::2]"
   ]
  },
  {
   "cell_type": "code",
   "execution_count": 16,
   "id": "e407d0c6",
   "metadata": {},
   "outputs": [
    {
     "data": {
      "text/plain": [
       "['two', 'four', 'six', 'eight']"
      ]
     },
     "execution_count": 16,
     "metadata": {},
     "output_type": "execute_result"
    }
   ],
   "source": [
    "mylist[1::2]"
   ]
  },
  {
   "cell_type": "markdown",
   "id": "8bf6a0d8",
   "metadata": {},
   "source": [
    "#### ADD, REMOVE AND CHANGE ITEM IN LIST"
   ]
  },
  {
   "cell_type": "code",
   "execution_count": 18,
   "id": "bbc8a09d",
   "metadata": {},
   "outputs": [],
   "source": [
    "mylist2=[2,3,5,4,8,30]"
   ]
  },
  {
   "cell_type": "code",
   "execution_count": 19,
   "id": "44f50131",
   "metadata": {},
   "outputs": [],
   "source": [
    "mylist2.append('nine')"
   ]
  },
  {
   "cell_type": "code",
   "execution_count": 20,
   "id": "0cb05067",
   "metadata": {},
   "outputs": [
    {
     "data": {
      "text/plain": [
       "[2, 3, 5, 4, 8, 30, 'nine']"
      ]
     },
     "execution_count": 20,
     "metadata": {},
     "output_type": "execute_result"
    }
   ],
   "source": [
    "mylist2"
   ]
  },
  {
   "cell_type": "code",
   "execution_count": 21,
   "id": "4cac6470",
   "metadata": {},
   "outputs": [],
   "source": [
    "mylist2.insert(3,'ten')"
   ]
  },
  {
   "cell_type": "code",
   "execution_count": 22,
   "id": "3375e685",
   "metadata": {},
   "outputs": [
    {
     "data": {
      "text/plain": [
       "[2, 3, 5, 'ten', 4, 8, 30, 'nine']"
      ]
     },
     "execution_count": 22,
     "metadata": {},
     "output_type": "execute_result"
    }
   ],
   "source": [
    "mylist2"
   ]
  },
  {
   "cell_type": "code",
   "execution_count": 23,
   "id": "ae07c62c",
   "metadata": {},
   "outputs": [],
   "source": [
    "mylist2.extend([25,45,52])"
   ]
  },
  {
   "cell_type": "code",
   "execution_count": 24,
   "id": "20376a9b",
   "metadata": {},
   "outputs": [
    {
     "data": {
      "text/plain": [
       "[2, 3, 5, 'ten', 4, 8, 30, 'nine', 25, 45, 52]"
      ]
     },
     "execution_count": 24,
     "metadata": {},
     "output_type": "execute_result"
    }
   ],
   "source": [
    "mylist2"
   ]
  },
  {
   "cell_type": "code",
   "execution_count": 25,
   "id": "631ca780",
   "metadata": {},
   "outputs": [
    {
     "data": {
      "text/plain": [
       "52"
      ]
     },
     "execution_count": 25,
     "metadata": {},
     "output_type": "execute_result"
    }
   ],
   "source": [
    "mylist2.pop()"
   ]
  },
  {
   "cell_type": "code",
   "execution_count": 26,
   "id": "a18459ff",
   "metadata": {},
   "outputs": [
    {
     "data": {
      "text/plain": [
       "[2, 3, 5, 'ten', 4, 8, 30, 'nine', 25, 45]"
      ]
     },
     "execution_count": 26,
     "metadata": {},
     "output_type": "execute_result"
    }
   ],
   "source": [
    "mylist2"
   ]
  },
  {
   "cell_type": "code",
   "execution_count": 27,
   "id": "a953189e",
   "metadata": {},
   "outputs": [],
   "source": [
    "mylist2.remove('ten')"
   ]
  },
  {
   "cell_type": "code",
   "execution_count": 28,
   "id": "5558793d",
   "metadata": {},
   "outputs": [
    {
     "data": {
      "text/plain": [
       "[2, 3, 5, 4, 8, 30, 'nine', 25, 45]"
      ]
     },
     "execution_count": 28,
     "metadata": {},
     "output_type": "execute_result"
    }
   ],
   "source": [
    "mylist2"
   ]
  },
  {
   "cell_type": "code",
   "execution_count": 29,
   "id": "44a02c44",
   "metadata": {},
   "outputs": [],
   "source": [
    "del mylist2[4]"
   ]
  },
  {
   "cell_type": "code",
   "execution_count": 30,
   "id": "4892281a",
   "metadata": {},
   "outputs": [
    {
     "data": {
      "text/plain": [
       "[2, 3, 5, 4, 30, 'nine', 25, 45]"
      ]
     },
     "execution_count": 30,
     "metadata": {},
     "output_type": "execute_result"
    }
   ],
   "source": [
    "mylist2"
   ]
  },
  {
   "cell_type": "code",
   "execution_count": 31,
   "id": "86ece8e3",
   "metadata": {},
   "outputs": [],
   "source": [
    "mylist2.clear()"
   ]
  },
  {
   "cell_type": "code",
   "execution_count": 32,
   "id": "61445bb5",
   "metadata": {},
   "outputs": [
    {
     "data": {
      "text/plain": [
       "[]"
      ]
     },
     "execution_count": 32,
     "metadata": {},
     "output_type": "execute_result"
    }
   ],
   "source": [
    "mylist2"
   ]
  },
  {
   "cell_type": "markdown",
   "id": "1edd537e",
   "metadata": {},
   "source": [
    "#### list join"
   ]
  },
  {
   "cell_type": "code",
   "execution_count": 33,
   "id": "ef45f3fa",
   "metadata": {},
   "outputs": [],
   "source": [
    "list1=['one','two','three','four']\n",
    "list2=['five','six','seven','eight']"
   ]
  },
  {
   "cell_type": "code",
   "execution_count": 34,
   "id": "1a42844a",
   "metadata": {},
   "outputs": [
    {
     "data": {
      "text/plain": [
       "['one', 'two', 'three', 'four', 'five', 'six', 'seven', 'eight']"
      ]
     },
     "execution_count": 34,
     "metadata": {},
     "output_type": "execute_result"
    }
   ],
   "source": [
    "list3=list1+list2\n",
    "list3"
   ]
  },
  {
   "cell_type": "code",
   "execution_count": 35,
   "id": "b7869c82",
   "metadata": {},
   "outputs": [
    {
     "data": {
      "text/plain": [
       "['one', 'two', 'three', 'four', 'five', 'six', 'seven', 'eight']"
      ]
     },
     "execution_count": 35,
     "metadata": {},
     "output_type": "execute_result"
    }
   ],
   "source": [
    "list1.extend(list2)\n",
    "list1"
   ]
  },
  {
   "cell_type": "markdown",
   "id": "41f64fe6",
   "metadata": {},
   "source": [
    "### membership"
   ]
  },
  {
   "cell_type": "code",
   "execution_count": 37,
   "id": "8227e719",
   "metadata": {},
   "outputs": [
    {
     "data": {
      "text/plain": [
       "['one', 'two', 'three', 'four', 'five', 'six', 'seven', 'eight']"
      ]
     },
     "execution_count": 37,
     "metadata": {},
     "output_type": "execute_result"
    }
   ],
   "source": [
    "list1"
   ]
  },
  {
   "cell_type": "code",
   "execution_count": 38,
   "id": "97e59485",
   "metadata": {},
   "outputs": [
    {
     "data": {
      "text/plain": [
       "True"
      ]
     },
     "execution_count": 38,
     "metadata": {},
     "output_type": "execute_result"
    }
   ],
   "source": [
    "'one' in list1"
   ]
  },
  {
   "cell_type": "code",
   "execution_count": 39,
   "id": "2c4eb280",
   "metadata": {},
   "outputs": [
    {
     "data": {
      "text/plain": [
       "False"
      ]
     },
     "execution_count": 39,
     "metadata": {},
     "output_type": "execute_result"
    }
   ],
   "source": [
    "'ten' in list1"
   ]
  },
  {
   "cell_type": "markdown",
   "id": "70acfb8f",
   "metadata": {},
   "source": [
    "#### Reverse & Sort the list"
   ]
  },
  {
   "cell_type": "code",
   "execution_count": 40,
   "id": "d6169f23",
   "metadata": {},
   "outputs": [
    {
     "data": {
      "text/plain": [
       "[5, 45, 69, 32, 5, 36, 2]"
      ]
     },
     "execution_count": 40,
     "metadata": {},
     "output_type": "execute_result"
    }
   ],
   "source": [
    "list1=[5,45,69,32,5,36,2]\n",
    "list1"
   ]
  },
  {
   "cell_type": "code",
   "execution_count": 41,
   "id": "f23e4869",
   "metadata": {},
   "outputs": [],
   "source": [
    "list1.reverse()      #premanetly reverse the list"
   ]
  },
  {
   "cell_type": "code",
   "execution_count": 42,
   "id": "e1d5af2f",
   "metadata": {},
   "outputs": [
    {
     "data": {
      "text/plain": [
       "[2, 36, 5, 32, 69, 45, 5]"
      ]
     },
     "execution_count": 42,
     "metadata": {},
     "output_type": "execute_result"
    }
   ],
   "source": [
    "list1"
   ]
  },
  {
   "cell_type": "code",
   "execution_count": 43,
   "id": "83b1926f",
   "metadata": {},
   "outputs": [
    {
     "data": {
      "text/plain": [
       "[5, 45, 69, 32, 5, 36, 2]"
      ]
     },
     "execution_count": 43,
     "metadata": {},
     "output_type": "execute_result"
    }
   ],
   "source": [
    "list1[::-1]           # temporaly reverse the list"
   ]
  },
  {
   "cell_type": "code",
   "execution_count": 44,
   "id": "633dc1b5",
   "metadata": {},
   "outputs": [],
   "source": [
    "list1.sort()"
   ]
  },
  {
   "cell_type": "code",
   "execution_count": 45,
   "id": "bc696ef9",
   "metadata": {},
   "outputs": [
    {
     "data": {
      "text/plain": [
       "[2, 5, 5, 32, 36, 45, 69]"
      ]
     },
     "execution_count": 45,
     "metadata": {},
     "output_type": "execute_result"
    }
   ],
   "source": [
    "list1"
   ]
  },
  {
   "cell_type": "code",
   "execution_count": 46,
   "id": "396ead5e",
   "metadata": {},
   "outputs": [
    {
     "data": {
      "text/plain": [
       "[1, 2, 'a', 5, 'S', 6]"
      ]
     },
     "execution_count": 46,
     "metadata": {},
     "output_type": "execute_result"
    }
   ],
   "source": [
    "list4=[1,2,'a',5,'S',6]\n",
    "list4"
   ]
  },
  {
   "cell_type": "code",
   "execution_count": 47,
   "id": "ea076b41",
   "metadata": {},
   "outputs": [
    {
     "ename": "TypeError",
     "evalue": "'<' not supported between instances of 'str' and 'int'",
     "output_type": "error",
     "traceback": [
      "\u001b[1;31m---------------------------------------------------------------------------\u001b[0m",
      "\u001b[1;31mTypeError\u001b[0m                                 Traceback (most recent call last)",
      "Cell \u001b[1;32mIn[47], line 1\u001b[0m\n\u001b[1;32m----> 1\u001b[0m list4\u001b[38;5;241m.\u001b[39msort()\n",
      "\u001b[1;31mTypeError\u001b[0m: '<' not supported between instances of 'str' and 'int'"
     ]
    }
   ],
   "source": [
    "list4.sort()       #Error not support in python3 ,  it will support in python2"
   ]
  },
  {
   "cell_type": "code",
   "execution_count": 48,
   "id": "1a87f88e",
   "metadata": {},
   "outputs": [
    {
     "data": {
      "text/plain": [
       "[4, 5, 6, 7, 9, 23, 85]"
      ]
     },
     "execution_count": 48,
     "metadata": {},
     "output_type": "execute_result"
    }
   ],
   "source": [
    "list5=[5,6,7,85,4,23,9]\n",
    "list5.sort()            #sort in ascending\n",
    "list5"
   ]
  },
  {
   "cell_type": "code",
   "execution_count": 49,
   "id": "079849b8",
   "metadata": {},
   "outputs": [
    {
     "data": {
      "text/plain": [
       "[54, 26, 24, 8, 6, 4, 3]"
      ]
     },
     "execution_count": 49,
     "metadata": {},
     "output_type": "execute_result"
    }
   ],
   "source": [
    "list6=[3,6,8,24,54,26,4]\n",
    "list6.sort(reverse=True)    ## desecending order\n",
    "list6"
   ]
  },
  {
   "cell_type": "markdown",
   "id": "a1acd5c4",
   "metadata": {},
   "source": [
    "#### ANY & ALL function"
   ]
  },
  {
   "cell_type": "code",
   "execution_count": 50,
   "id": "87b6ef1e",
   "metadata": {},
   "outputs": [],
   "source": [
    "L1=[1,2,3,4,5,6]     #[T,T,T,T,T,T]"
   ]
  },
  {
   "cell_type": "code",
   "execution_count": 51,
   "id": "5da5b4d1",
   "metadata": {},
   "outputs": [],
   "source": [
    "L3=[1,2,3,4,5,0]     #[T,T,T,T,F]"
   ]
  },
  {
   "cell_type": "code",
   "execution_count": 52,
   "id": "bf070029",
   "metadata": {},
   "outputs": [
    {
     "data": {
      "text/plain": [
       "True"
      ]
     },
     "execution_count": 52,
     "metadata": {},
     "output_type": "execute_result"
    }
   ],
   "source": [
    "all(L1)"
   ]
  },
  {
   "cell_type": "code",
   "execution_count": 53,
   "id": "89074f21",
   "metadata": {},
   "outputs": [
    {
     "data": {
      "text/plain": [
       "False"
      ]
     },
     "execution_count": 53,
     "metadata": {},
     "output_type": "execute_result"
    }
   ],
   "source": [
    "all(L3)"
   ]
  },
  {
   "cell_type": "code",
   "execution_count": 54,
   "id": "e915cf6f",
   "metadata": {},
   "outputs": [
    {
     "data": {
      "text/plain": [
       "True"
      ]
     },
     "execution_count": 54,
     "metadata": {},
     "output_type": "execute_result"
    }
   ],
   "source": [
    "any(L1)"
   ]
  },
  {
   "cell_type": "code",
   "execution_count": 55,
   "id": "20e6842d",
   "metadata": {},
   "outputs": [
    {
     "data": {
      "text/plain": [
       "True"
      ]
     },
     "execution_count": 55,
     "metadata": {},
     "output_type": "execute_result"
    }
   ],
   "source": [
    "any(L3)"
   ]
  },
  {
   "cell_type": "code",
   "execution_count": 56,
   "id": "1f4c2ed3",
   "metadata": {},
   "outputs": [
    {
     "name": "stdout",
     "output_type": "stream",
     "text": [
      "True\n",
      "False\n"
     ]
    }
   ],
   "source": [
    "L2=['a','b','']\n",
    "print(any(L2))\n",
    "print(all(L2))"
   ]
  },
  {
   "cell_type": "code",
   "execution_count": null,
   "id": "9d757bde",
   "metadata": {},
   "outputs": [],
   "source": []
  }
 ],
 "metadata": {
  "kernelspec": {
   "display_name": "Python 3 (ipykernel)",
   "language": "python",
   "name": "python3"
  },
  "language_info": {
   "codemirror_mode": {
    "name": "ipython",
    "version": 3
   },
   "file_extension": ".py",
   "mimetype": "text/x-python",
   "name": "python",
   "nbconvert_exporter": "python",
   "pygments_lexer": "ipython3",
   "version": "3.11.4"
  }
 },
 "nbformat": 4,
 "nbformat_minor": 5
}
