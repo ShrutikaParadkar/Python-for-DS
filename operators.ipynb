{
 "cells": [
  {
   "cell_type": "markdown",
   "id": "9b8688dc",
   "metadata": {},
   "source": [
    "## OPERATORS\n",
    "Special operators\n",
    "\n",
    "Membership operator ------- in, not in"
   ]
  },
  {
   "cell_type": "code",
   "execution_count": 1,
   "id": "7deec767",
   "metadata": {},
   "outputs": [],
   "source": [
    "s='Datamites'"
   ]
  },
  {
   "cell_type": "code",
   "execution_count": 2,
   "id": "e27b345b",
   "metadata": {},
   "outputs": [
    {
     "data": {
      "text/plain": [
       "'Datamites'"
      ]
     },
     "execution_count": 2,
     "metadata": {},
     "output_type": "execute_result"
    }
   ],
   "source": [
    "s"
   ]
  },
  {
   "cell_type": "code",
   "execution_count": 3,
   "id": "769a3e4f",
   "metadata": {},
   "outputs": [
    {
     "data": {
      "text/plain": [
       "True"
      ]
     },
     "execution_count": 3,
     "metadata": {},
     "output_type": "execute_result"
    }
   ],
   "source": [
    "'Data' in s"
   ]
  },
  {
   "cell_type": "code",
   "execution_count": 4,
   "id": "cc8054c6",
   "metadata": {},
   "outputs": [
    {
     "data": {
      "text/plain": [
       "False"
      ]
     },
     "execution_count": 4,
     "metadata": {},
     "output_type": "execute_result"
    }
   ],
   "source": [
    "'data' in s"
   ]
  },
  {
   "cell_type": "code",
   "execution_count": 5,
   "id": "274fc873",
   "metadata": {},
   "outputs": [
    {
     "data": {
      "text/plain": [
       "True"
      ]
     },
     "execution_count": 5,
     "metadata": {},
     "output_type": "execute_result"
    }
   ],
   "source": [
    "'data' not in s"
   ]
  },
  {
   "cell_type": "markdown",
   "id": "ed3f1aa9",
   "metadata": {},
   "source": [
    "Identity Operator ------- is, is not"
   ]
  },
  {
   "cell_type": "code",
   "execution_count": 6,
   "id": "a60a8721",
   "metadata": {},
   "outputs": [],
   "source": [
    "a=10\n",
    "b=10\n",
    "c=20"
   ]
  },
  {
   "cell_type": "code",
   "execution_count": 7,
   "id": "f5a39ba2",
   "metadata": {},
   "outputs": [
    {
     "data": {
      "text/plain": [
       "True"
      ]
     },
     "execution_count": 7,
     "metadata": {},
     "output_type": "execute_result"
    }
   ],
   "source": [
    "a is b"
   ]
  },
  {
   "cell_type": "code",
   "execution_count": 8,
   "id": "07fc0fc2",
   "metadata": {},
   "outputs": [
    {
     "data": {
      "text/plain": [
       "False"
      ]
     },
     "execution_count": 8,
     "metadata": {},
     "output_type": "execute_result"
    }
   ],
   "source": [
    "a is not b"
   ]
  },
  {
   "cell_type": "code",
   "execution_count": 9,
   "id": "314aa1fc",
   "metadata": {},
   "outputs": [
    {
     "data": {
      "text/plain": [
       "False"
      ]
     },
     "execution_count": 9,
     "metadata": {},
     "output_type": "execute_result"
    }
   ],
   "source": [
    "a is c"
   ]
  },
  {
   "cell_type": "markdown",
   "id": "0b68ddeb",
   "metadata": {},
   "source": [
    "### Conditional Statement\n",
    "we can use only 'IF' in our code\n",
    "\n",
    "we can't use only 'ELSE' without 'IF'"
   ]
  },
  {
   "cell_type": "markdown",
   "id": "bd05a0b7",
   "metadata": {},
   "source": [
    "##### IF-ELSE"
   ]
  },
  {
   "cell_type": "code",
   "execution_count": 10,
   "id": "cf683328",
   "metadata": {},
   "outputs": [
    {
     "name": "stdout",
     "output_type": "stream",
     "text": [
      "both are not same\n"
     ]
    }
   ],
   "source": [
    "a=10\n",
    "b=20\n",
    "if(a==b):\n",
    "    print(\"both are same\")\n",
    "else:\n",
    "    print(\"both are not same\")"
   ]
  },
  {
   "cell_type": "code",
   "execution_count": 11,
   "id": "9b4b2f3b",
   "metadata": {},
   "outputs": [
    {
     "name": "stdout",
     "output_type": "stream",
     "text": [
      "Enter the no.:15\n",
      "Condition Satisfied\n"
     ]
    }
   ],
   "source": [
    "a = int(input('Enter the no.:'))\n",
    "if(a%3==0 and a%5==0):\n",
    "    print('Condition Satisfied')\n",
    "else:\n",
    "    print('Condition not Satisfied')"
   ]
  },
  {
   "cell_type": "markdown",
   "id": "b83a009f",
   "metadata": {},
   "source": [
    "#### Only if"
   ]
  },
  {
   "cell_type": "code",
   "execution_count": 12,
   "id": "b6325716",
   "metadata": {},
   "outputs": [
    {
     "name": "stdout",
     "output_type": "stream",
     "text": [
      "5 is big\n",
      "I am in if block\n",
      "I am out of if block\n"
     ]
    }
   ],
   "source": [
    "if(5<14):\n",
    "    print('5 is big')\n",
    "    print('I am in if block')\n",
    "print('I am out of if block')"
   ]
  },
  {
   "cell_type": "code",
   "execution_count": 13,
   "id": "edf77134",
   "metadata": {},
   "outputs": [
    {
     "name": "stdout",
     "output_type": "stream",
     "text": [
      "X is positive\n",
      "I am in IF block\n",
      "I am out of ELSE block\n"
     ]
    }
   ],
   "source": [
    "x=8\n",
    "if x>0:\n",
    "    print('X is positive')\n",
    "    print('I am in IF block')\n",
    "else:\n",
    "    print('X is negative')\n",
    "    print('I am in ELSE block')\n",
    "print('I am out of ELSE block')"
   ]
  },
  {
   "cell_type": "markdown",
   "id": "c70d50e1",
   "metadata": {},
   "source": [
    "#### if-elif-else Ladder"
   ]
  },
  {
   "cell_type": "code",
   "execution_count": 14,
   "id": "191925e9",
   "metadata": {},
   "outputs": [
    {
     "name": "stdout",
     "output_type": "stream",
     "text": [
      "Enter the no.:-1\n",
      "No. is negative\n"
     ]
    }
   ],
   "source": [
    "a = int(input('Enter the no.:'))\n",
    "if(a>0):\n",
    "    print('No. is positive')\n",
    "elif(a<0):\n",
    "    print('No. is negative')\n",
    "else:\n",
    "    print('No. is zero')"
   ]
  },
  {
   "cell_type": "markdown",
   "id": "4eb1fdc4",
   "metadata": {},
   "source": [
    "## Nesting"
   ]
  },
  {
   "cell_type": "code",
   "execution_count": 15,
   "id": "4b89b052",
   "metadata": {},
   "outputs": [
    {
     "name": "stdout",
     "output_type": "stream",
     "text": [
      "I am in 1st if\n",
      "I am in 2nd if\n",
      "I am in 3rd if\n",
      "THANK YOU\n"
     ]
    }
   ],
   "source": [
    "x=4\n",
    "if(x>=3):\n",
    "    print('I am in 1st if')\n",
    "    if(x>2):\n",
    "        print('I am in 2nd if')\n",
    "        if(x==4):\n",
    "            print('I am in 3rd if')\n",
    "print('THANK YOU')"
   ]
  },
  {
   "cell_type": "markdown",
   "id": "8bcff409",
   "metadata": {},
   "source": [
    "### DATETIME Libery"
   ]
  },
  {
   "cell_type": "code",
   "execution_count": 3,
   "id": "57123639",
   "metadata": {},
   "outputs": [],
   "source": [
    "from datetime import date"
   ]
  },
  {
   "cell_type": "code",
   "execution_count": 4,
   "id": "0edf6b15",
   "metadata": {},
   "outputs": [],
   "source": [
    "my_date = date(1996, 9, 13)"
   ]
  },
  {
   "cell_type": "code",
   "execution_count": 5,
   "id": "a95b4af6",
   "metadata": {},
   "outputs": [
    {
     "data": {
      "text/plain": [
       "datetime.date(1996, 9, 13)"
      ]
     },
     "execution_count": 5,
     "metadata": {},
     "output_type": "execute_result"
    }
   ],
   "source": [
    "my_date"
   ]
  },
  {
   "cell_type": "code",
   "execution_count": 6,
   "id": "6d198101",
   "metadata": {},
   "outputs": [
    {
     "name": "stdout",
     "output_type": "stream",
     "text": [
      "Today's date is 2024-01-02\n"
     ]
    }
   ],
   "source": [
    "#Getting today's date\n",
    "today1 = date.today()\n",
    "print(\"Today's date is\" , today1)"
   ]
  },
  {
   "cell_type": "code",
   "execution_count": 7,
   "id": "1ecd29e3",
   "metadata": {},
   "outputs": [
    {
     "data": {
      "text/plain": [
       "2"
      ]
     },
     "execution_count": 7,
     "metadata": {},
     "output_type": "execute_result"
    }
   ],
   "source": [
    "today1.isoweekday()"
   ]
  },
  {
   "cell_type": "code",
   "execution_count": 8,
   "id": "49c2c68e",
   "metadata": {},
   "outputs": [
    {
     "data": {
      "text/plain": [
       "datetime.date(2024, 1, 2)"
      ]
     },
     "execution_count": 8,
     "metadata": {},
     "output_type": "execute_result"
    }
   ],
   "source": [
    "\n",
    "today1"
   ]
  },
  {
   "cell_type": "code",
   "execution_count": 9,
   "id": "b976b360",
   "metadata": {},
   "outputs": [
    {
     "name": "stdout",
     "output_type": "stream",
     "text": [
      "Current year : 2024\n",
      "current month : 1\n",
      "Current day : 2\n"
     ]
    }
   ],
   "source": [
    "#Get todays Year, Month and date\n",
    "today1 = date.today()\n",
    "print(\"Current year :\", today1.year)\n",
    "print(\"current month :\", today1.month)\n",
    "print(\"Current day :\", today1.day)"
   ]
  },
  {
   "cell_type": "code",
   "execution_count": 10,
   "id": "7b5190e2",
   "metadata": {},
   "outputs": [],
   "source": [
    "#get date from datetime sub module\n",
    "from datetime import datetime as dt"
   ]
  },
  {
   "cell_type": "code",
   "execution_count": 11,
   "id": "abc18ada",
   "metadata": {},
   "outputs": [],
   "source": [
    "date1=dt.now()"
   ]
  },
  {
   "cell_type": "code",
   "execution_count": 12,
   "id": "2b2ff907",
   "metadata": {},
   "outputs": [
    {
     "name": "stdout",
     "output_type": "stream",
     "text": [
      "2024-01-02 20:37:08.713310\n"
     ]
    }
   ],
   "source": [
    "print(date1)"
   ]
  },
  {
   "cell_type": "code",
   "execution_count": 13,
   "id": "05a73c2f",
   "metadata": {},
   "outputs": [
    {
     "data": {
      "text/plain": [
       "datetime.date(2024, 1, 2)"
      ]
     },
     "execution_count": 13,
     "metadata": {},
     "output_type": "execute_result"
    }
   ],
   "source": [
    "dt.date(date1)"
   ]
  },
  {
   "cell_type": "code",
   "execution_count": 14,
   "id": "55d6b083",
   "metadata": {},
   "outputs": [
    {
     "data": {
      "text/plain": [
       "2"
      ]
     },
     "execution_count": 14,
     "metadata": {},
     "output_type": "execute_result"
    }
   ],
   "source": [
    "date1.day"
   ]
  },
  {
   "cell_type": "code",
   "execution_count": 15,
   "id": "ad00ce19",
   "metadata": {},
   "outputs": [
    {
     "data": {
      "text/plain": [
       "20"
      ]
     },
     "execution_count": 15,
     "metadata": {},
     "output_type": "execute_result"
    }
   ],
   "source": [
    "date1.hour"
   ]
  },
  {
   "cell_type": "code",
   "execution_count": 16,
   "id": "d79ad502",
   "metadata": {},
   "outputs": [
    {
     "data": {
      "text/plain": [
       "2"
      ]
     },
     "execution_count": 16,
     "metadata": {},
     "output_type": "execute_result"
    }
   ],
   "source": [
    "date1.isoweekday()"
   ]
  },
  {
   "cell_type": "code",
   "execution_count": 17,
   "id": "f2ee46d2",
   "metadata": {},
   "outputs": [],
   "source": [
    "# Time sub module\n",
    "from datetime import time as tm"
   ]
  },
  {
   "cell_type": "code",
   "execution_count": 18,
   "id": "9550cff2",
   "metadata": {},
   "outputs": [
    {
     "name": "stdout",
     "output_type": "stream",
     "text": [
      "entered time 07:08:20\n"
     ]
    }
   ],
   "source": [
    "my_time = tm(7,8,20)\n",
    "print(\"entered time\", my_time)"
   ]
  },
  {
   "cell_type": "code",
   "execution_count": 19,
   "id": "b5f54886",
   "metadata": {},
   "outputs": [],
   "source": [
    "#Timedelta function demostration\n",
    "from datetime import date, timedelta as td"
   ]
  },
  {
   "cell_type": "code",
   "execution_count": 20,
   "id": "4af5730a",
   "metadata": {},
   "outputs": [
    {
     "data": {
      "text/plain": [
       "datetime.date(2029, 6, 24)"
      ]
     },
     "execution_count": 20,
     "metadata": {},
     "output_type": "execute_result"
    }
   ],
   "source": [
    "current_date= date.today()\n",
    "#calculating future date fro 2000 days\n",
    "newdate = current_date + td(days=2000)\n",
    "newdate"
   ]
  },
  {
   "cell_type": "code",
   "execution_count": null,
   "id": "121719e6",
   "metadata": {},
   "outputs": [],
   "source": []
  }
 ],
 "metadata": {
  "kernelspec": {
   "display_name": "Python 3 (ipykernel)",
   "language": "python",
   "name": "python3"
  },
  "language_info": {
   "codemirror_mode": {
    "name": "ipython",
    "version": 3
   },
   "file_extension": ".py",
   "mimetype": "text/x-python",
   "name": "python",
   "nbconvert_exporter": "python",
   "pygments_lexer": "ipython3",
   "version": "3.11.4"
  }
 },
 "nbformat": 4,
 "nbformat_minor": 5
}
